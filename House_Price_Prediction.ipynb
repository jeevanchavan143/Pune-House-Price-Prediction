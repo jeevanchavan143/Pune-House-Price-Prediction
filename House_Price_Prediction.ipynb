{
  "nbformat": 4,
  "nbformat_minor": 0,
  "metadata": {
    "colab": {
      "name": "House Price Prediction.ipynb",
      "provenance": []
    },
    "kernelspec": {
      "name": "python3",
      "display_name": "Python 3"
    }
  },
  "cells": [
    {
      "cell_type": "markdown",
      "metadata": {
        "id": "8lAiR4_3LLBU",
        "colab_type": "text"
      },
      "source": [
        "Import all necessary libraries\n"
      ]
    },
    {
      "cell_type": "code",
      "metadata": {
        "id": "B3i5eoO1BRZ9",
        "colab_type": "code",
        "colab": {}
      },
      "source": [
        "# Importing essential libraries\n",
        "import numpy as np\n",
        "import pandas as pd\n",
        "from matplotlib import pyplot as plt\n",
        "from matplotlib import rcParams as rcP\n",
        "%matplotlib inline"
      ],
      "execution_count": 52,
      "outputs": []
    },
    {
      "cell_type": "markdown",
      "metadata": {
        "id": "RwtJTIcmLXxP",
        "colab_type": "text"
      },
      "source": [
        "Reading Dataset"
      ]
    },
    {
      "cell_type": "code",
      "metadata": {
        "id": "FRByZzbRLaPh",
        "colab_type": "code",
        "colab": {
          "base_uri": "https://localhost:8080/",
          "height": 204
        },
        "outputId": "6bbd1342-3754-40ea-b58b-72a018a786b4"
      },
      "source": [
        "df = pd.read_csv('/Pune_House_Data.csv')\n",
        "df.head()"
      ],
      "execution_count": 5,
      "outputs": [
        {
          "output_type": "execute_result",
          "data": {
            "text/html": [
              "<div>\n",
              "<style scoped>\n",
              "    .dataframe tbody tr th:only-of-type {\n",
              "        vertical-align: middle;\n",
              "    }\n",
              "\n",
              "    .dataframe tbody tr th {\n",
              "        vertical-align: top;\n",
              "    }\n",
              "\n",
              "    .dataframe thead th {\n",
              "        text-align: right;\n",
              "    }\n",
              "</style>\n",
              "<table border=\"1\" class=\"dataframe\">\n",
              "  <thead>\n",
              "    <tr style=\"text-align: right;\">\n",
              "      <th></th>\n",
              "      <th>area_type</th>\n",
              "      <th>availability</th>\n",
              "      <th>size</th>\n",
              "      <th>society</th>\n",
              "      <th>total_sqft</th>\n",
              "      <th>bath</th>\n",
              "      <th>balcony</th>\n",
              "      <th>price</th>\n",
              "      <th>site_location</th>\n",
              "    </tr>\n",
              "  </thead>\n",
              "  <tbody>\n",
              "    <tr>\n",
              "      <th>0</th>\n",
              "      <td>Super built-up  Area</td>\n",
              "      <td>19-Dec</td>\n",
              "      <td>2 BHK</td>\n",
              "      <td>Coomee</td>\n",
              "      <td>1056</td>\n",
              "      <td>2.0</td>\n",
              "      <td>1.0</td>\n",
              "      <td>39.07</td>\n",
              "      <td>Alandi Road</td>\n",
              "    </tr>\n",
              "    <tr>\n",
              "      <th>1</th>\n",
              "      <td>Plot  Area</td>\n",
              "      <td>Ready To Move</td>\n",
              "      <td>4 Bedroom</td>\n",
              "      <td>Theanmp</td>\n",
              "      <td>2600</td>\n",
              "      <td>5.0</td>\n",
              "      <td>3.0</td>\n",
              "      <td>120.00</td>\n",
              "      <td>Ambegaon Budruk</td>\n",
              "    </tr>\n",
              "    <tr>\n",
              "      <th>2</th>\n",
              "      <td>Built-up  Area</td>\n",
              "      <td>Ready To Move</td>\n",
              "      <td>3 BHK</td>\n",
              "      <td>NaN</td>\n",
              "      <td>1440</td>\n",
              "      <td>2.0</td>\n",
              "      <td>3.0</td>\n",
              "      <td>62.00</td>\n",
              "      <td>Anandnagar</td>\n",
              "    </tr>\n",
              "    <tr>\n",
              "      <th>3</th>\n",
              "      <td>Super built-up  Area</td>\n",
              "      <td>Ready To Move</td>\n",
              "      <td>3 BHK</td>\n",
              "      <td>Soiewre</td>\n",
              "      <td>1521</td>\n",
              "      <td>3.0</td>\n",
              "      <td>1.0</td>\n",
              "      <td>95.00</td>\n",
              "      <td>Aundh</td>\n",
              "    </tr>\n",
              "    <tr>\n",
              "      <th>4</th>\n",
              "      <td>Super built-up  Area</td>\n",
              "      <td>Ready To Move</td>\n",
              "      <td>2 BHK</td>\n",
              "      <td>NaN</td>\n",
              "      <td>1200</td>\n",
              "      <td>2.0</td>\n",
              "      <td>1.0</td>\n",
              "      <td>51.00</td>\n",
              "      <td>Aundh Road</td>\n",
              "    </tr>\n",
              "  </tbody>\n",
              "</table>\n",
              "</div>"
            ],
            "text/plain": [
              "              area_type   availability  ...   price    site_location\n",
              "0  Super built-up  Area         19-Dec  ...   39.07      Alandi Road\n",
              "1            Plot  Area  Ready To Move  ...  120.00  Ambegaon Budruk\n",
              "2        Built-up  Area  Ready To Move  ...   62.00       Anandnagar\n",
              "3  Super built-up  Area  Ready To Move  ...   95.00            Aundh\n",
              "4  Super built-up  Area  Ready To Move  ...   51.00       Aundh Road\n",
              "\n",
              "[5 rows x 9 columns]"
            ]
          },
          "metadata": {
            "tags": []
          },
          "execution_count": 5
        }
      ]
    },
    {
      "cell_type": "code",
      "metadata": {
        "id": "Njq-seLcL-Ae",
        "colab_type": "code",
        "colab": {
          "base_uri": "https://localhost:8080/",
          "height": 34
        },
        "outputId": "8674187a-6ccb-4972-8f96-d5865db71efb"
      },
      "source": [
        "df.shape"
      ],
      "execution_count": 6,
      "outputs": [
        {
          "output_type": "execute_result",
          "data": {
            "text/plain": [
              "(13320, 9)"
            ]
          },
          "metadata": {
            "tags": []
          },
          "execution_count": 6
        }
      ]
    },
    {
      "cell_type": "code",
      "metadata": {
        "id": "BetjdkZLMAvL",
        "colab_type": "code",
        "colab": {
          "base_uri": "https://localhost:8080/",
          "height": 119
        },
        "outputId": "07331dde-7a8d-4949-efd8-eceb921be563"
      },
      "source": [
        "# Exploring the dataset\n",
        "df.groupby('area_type')['area_type'].agg('count')"
      ],
      "execution_count": 7,
      "outputs": [
        {
          "output_type": "execute_result",
          "data": {
            "text/plain": [
              "area_type\n",
              "Built-up  Area          2418\n",
              "Carpet  Area              87\n",
              "Plot  Area              2025\n",
              "Super built-up  Area    8790\n",
              "Name: area_type, dtype: int64"
            ]
          },
          "metadata": {
            "tags": []
          },
          "execution_count": 7
        }
      ]
    },
    {
      "cell_type": "code",
      "metadata": {
        "id": "QrDiVhUkMd7E",
        "colab_type": "code",
        "colab": {
          "base_uri": "https://localhost:8080/",
          "height": 578
        },
        "outputId": "5ae1f7e3-4420-40eb-e87f-2eda7afa6241"
      },
      "source": [
        "# Exploring the dataset\n",
        "df.groupby('size')['size'].agg('count')"
      ],
      "execution_count": 9,
      "outputs": [
        {
          "output_type": "execute_result",
          "data": {
            "text/plain": [
              "size\n",
              "1 BHK          538\n",
              "1 Bedroom      105\n",
              "1 RK            13\n",
              "10 BHK           2\n",
              "10 Bedroom      12\n",
              "11 BHK           2\n",
              "11 Bedroom       2\n",
              "12 Bedroom       1\n",
              "13 BHK           1\n",
              "14 BHK           1\n",
              "16 BHK           1\n",
              "18 Bedroom       1\n",
              "19 BHK           1\n",
              "2 BHK         5199\n",
              "2 Bedroom      329\n",
              "27 BHK           1\n",
              "3 BHK         4310\n",
              "3 Bedroom      547\n",
              "4 BHK          591\n",
              "4 Bedroom      826\n",
              "43 Bedroom       1\n",
              "5 BHK           59\n",
              "5 Bedroom      297\n",
              "6 BHK           30\n",
              "6 Bedroom      191\n",
              "7 BHK           17\n",
              "7 Bedroom       83\n",
              "8 BHK            5\n",
              "8 Bedroom       84\n",
              "9 BHK            8\n",
              "9 Bedroom       46\n",
              "Name: size, dtype: int64"
            ]
          },
          "metadata": {
            "tags": []
          },
          "execution_count": 9
        }
      ]
    },
    {
      "cell_type": "code",
      "metadata": {
        "id": "jLPI-S9ZMmoA",
        "colab_type": "code",
        "colab": {
          "base_uri": "https://localhost:8080/",
          "height": 238
        },
        "outputId": "a1ad58e9-96d2-49b5-eca3-9894d814fda3"
      },
      "source": [
        "df.groupby('site_location')['site_location'].agg('count')"
      ],
      "execution_count": 10,
      "outputs": [
        {
          "output_type": "execute_result",
          "data": {
            "text/plain": [
              "site_location\n",
              "Alandi Road        139\n",
              "Ambegaon Budruk    139\n",
              "Anandnagar         139\n",
              "Aundh              139\n",
              "Aundh Road         139\n",
              "                  ... \n",
              "Wakadewadi         138\n",
              "Wanowrie           138\n",
              "Warje              138\n",
              "Yerawada           138\n",
              "other                1\n",
              "Name: site_location, Length: 97, dtype: int64"
            ]
          },
          "metadata": {
            "tags": []
          },
          "execution_count": 10
        }
      ]
    },
    {
      "cell_type": "code",
      "metadata": {
        "id": "sRKOKX2OMrio",
        "colab_type": "code",
        "colab": {
          "base_uri": "https://localhost:8080/",
          "height": 204
        },
        "outputId": "99344907-e438-43ba-faaa-9a674246c8bb"
      },
      "source": [
        "# Removing the columns of society\n",
        "df = df.drop('society', axis='columns')\n",
        "df.head()"
      ],
      "execution_count": 11,
      "outputs": [
        {
          "output_type": "execute_result",
          "data": {
            "text/html": [
              "<div>\n",
              "<style scoped>\n",
              "    .dataframe tbody tr th:only-of-type {\n",
              "        vertical-align: middle;\n",
              "    }\n",
              "\n",
              "    .dataframe tbody tr th {\n",
              "        vertical-align: top;\n",
              "    }\n",
              "\n",
              "    .dataframe thead th {\n",
              "        text-align: right;\n",
              "    }\n",
              "</style>\n",
              "<table border=\"1\" class=\"dataframe\">\n",
              "  <thead>\n",
              "    <tr style=\"text-align: right;\">\n",
              "      <th></th>\n",
              "      <th>area_type</th>\n",
              "      <th>availability</th>\n",
              "      <th>size</th>\n",
              "      <th>total_sqft</th>\n",
              "      <th>bath</th>\n",
              "      <th>balcony</th>\n",
              "      <th>price</th>\n",
              "      <th>site_location</th>\n",
              "    </tr>\n",
              "  </thead>\n",
              "  <tbody>\n",
              "    <tr>\n",
              "      <th>0</th>\n",
              "      <td>Super built-up  Area</td>\n",
              "      <td>19-Dec</td>\n",
              "      <td>2 BHK</td>\n",
              "      <td>1056</td>\n",
              "      <td>2.0</td>\n",
              "      <td>1.0</td>\n",
              "      <td>39.07</td>\n",
              "      <td>Alandi Road</td>\n",
              "    </tr>\n",
              "    <tr>\n",
              "      <th>1</th>\n",
              "      <td>Plot  Area</td>\n",
              "      <td>Ready To Move</td>\n",
              "      <td>4 Bedroom</td>\n",
              "      <td>2600</td>\n",
              "      <td>5.0</td>\n",
              "      <td>3.0</td>\n",
              "      <td>120.00</td>\n",
              "      <td>Ambegaon Budruk</td>\n",
              "    </tr>\n",
              "    <tr>\n",
              "      <th>2</th>\n",
              "      <td>Built-up  Area</td>\n",
              "      <td>Ready To Move</td>\n",
              "      <td>3 BHK</td>\n",
              "      <td>1440</td>\n",
              "      <td>2.0</td>\n",
              "      <td>3.0</td>\n",
              "      <td>62.00</td>\n",
              "      <td>Anandnagar</td>\n",
              "    </tr>\n",
              "    <tr>\n",
              "      <th>3</th>\n",
              "      <td>Super built-up  Area</td>\n",
              "      <td>Ready To Move</td>\n",
              "      <td>3 BHK</td>\n",
              "      <td>1521</td>\n",
              "      <td>3.0</td>\n",
              "      <td>1.0</td>\n",
              "      <td>95.00</td>\n",
              "      <td>Aundh</td>\n",
              "    </tr>\n",
              "    <tr>\n",
              "      <th>4</th>\n",
              "      <td>Super built-up  Area</td>\n",
              "      <td>Ready To Move</td>\n",
              "      <td>2 BHK</td>\n",
              "      <td>1200</td>\n",
              "      <td>2.0</td>\n",
              "      <td>1.0</td>\n",
              "      <td>51.00</td>\n",
              "      <td>Aundh Road</td>\n",
              "    </tr>\n",
              "  </tbody>\n",
              "</table>\n",
              "</div>"
            ],
            "text/plain": [
              "              area_type   availability  ...   price    site_location\n",
              "0  Super built-up  Area         19-Dec  ...   39.07      Alandi Road\n",
              "1            Plot  Area  Ready To Move  ...  120.00  Ambegaon Budruk\n",
              "2        Built-up  Area  Ready To Move  ...   62.00       Anandnagar\n",
              "3  Super built-up  Area  Ready To Move  ...   95.00            Aundh\n",
              "4  Super built-up  Area  Ready To Move  ...   51.00       Aundh Road\n",
              "\n",
              "[5 rows x 8 columns]"
            ]
          },
          "metadata": {
            "tags": []
          },
          "execution_count": 11
        }
      ]
    },
    {
      "cell_type": "code",
      "metadata": {
        "id": "wHH9MCQIM29y",
        "colab_type": "code",
        "colab": {
          "base_uri": "https://localhost:8080/",
          "height": 170
        },
        "outputId": "061d960f-71e7-47f5-eee9-913407461aea"
      },
      "source": [
        "# Data Cleaning\n",
        "# Checking the null values in the dataset\n",
        "df.isnull().sum()"
      ],
      "execution_count": 12,
      "outputs": [
        {
          "output_type": "execute_result",
          "data": {
            "text/plain": [
              "area_type          0\n",
              "availability       0\n",
              "size              16\n",
              "total_sqft         0\n",
              "bath              73\n",
              "balcony          609\n",
              "price              0\n",
              "site_location      1\n",
              "dtype: int64"
            ]
          },
          "metadata": {
            "tags": []
          },
          "execution_count": 12
        }
      ]
    },
    {
      "cell_type": "code",
      "metadata": {
        "id": "8B3GDyHOM9zl",
        "colab_type": "code",
        "colab": {}
      },
      "source": [
        "# Applying median to the balcony and bath column\n",
        "from math import floor\n",
        "\n",
        "balcony_median = float(floor(df.balcony.median()))\n",
        "bath_median = float(floor(df.bath.median()))\n",
        "\n",
        "df.balcony = df.balcony.fillna(balcony_median)\n",
        "df.bath = df.bath.fillna(bath_median)"
      ],
      "execution_count": 14,
      "outputs": []
    },
    {
      "cell_type": "code",
      "metadata": {
        "id": "pSrX0dnwNGGt",
        "colab_type": "code",
        "colab": {
          "base_uri": "https://localhost:8080/",
          "height": 170
        },
        "outputId": "c7585926-3c78-4247-c465-11f711d8f623"
      },
      "source": [
        "# Checking the null values in the dataset again\n",
        "df.isnull().sum()"
      ],
      "execution_count": 15,
      "outputs": [
        {
          "output_type": "execute_result",
          "data": {
            "text/plain": [
              "area_type         0\n",
              "availability      0\n",
              "size             16\n",
              "total_sqft        0\n",
              "bath              0\n",
              "balcony           0\n",
              "price             0\n",
              "site_location     1\n",
              "dtype: int64"
            ]
          },
          "metadata": {
            "tags": []
          },
          "execution_count": 15
        }
      ]
    },
    {
      "cell_type": "code",
      "metadata": {
        "id": "U_tLzYQbNRK5",
        "colab_type": "code",
        "colab": {
          "base_uri": "https://localhost:8080/",
          "height": 170
        },
        "outputId": "8a1763fe-b8ea-4038-af1b-19e003e12768"
      },
      "source": [
        "# Dropping the rows with null values because the dataset is huge as compared to null values.\n",
        "df = df.dropna()\n",
        "df.isnull().sum()"
      ],
      "execution_count": 16,
      "outputs": [
        {
          "output_type": "execute_result",
          "data": {
            "text/plain": [
              "area_type        0\n",
              "availability     0\n",
              "size             0\n",
              "total_sqft       0\n",
              "bath             0\n",
              "balcony          0\n",
              "price            0\n",
              "site_location    0\n",
              "dtype: int64"
            ]
          },
          "metadata": {
            "tags": []
          },
          "execution_count": 16
        }
      ]
    },
    {
      "cell_type": "code",
      "metadata": {
        "id": "iMojOrq2PFeM",
        "colab_type": "code",
        "colab": {
          "base_uri": "https://localhost:8080/",
          "height": 374
        },
        "outputId": "39fad82c-9a45-4d33-fe45-569eaf661b4c"
      },
      "source": [
        "# Converting the size column to bhk\n",
        "df['bhk'] = df['size'].apply(lambda x: int(x.split(' ')[0]))\n",
        "df = df.drop('size', axis='columns')\n",
        "df.groupby('bhk')['bhk'].agg('count')"
      ],
      "execution_count": 17,
      "outputs": [
        {
          "output_type": "execute_result",
          "data": {
            "text/plain": [
              "bhk\n",
              "1      656\n",
              "2     5527\n",
              "3     4857\n",
              "4     1417\n",
              "5      356\n",
              "6      221\n",
              "7      100\n",
              "8       89\n",
              "9       54\n",
              "10      14\n",
              "11       4\n",
              "12       1\n",
              "13       1\n",
              "14       1\n",
              "16       1\n",
              "18       1\n",
              "19       1\n",
              "27       1\n",
              "43       1\n",
              "Name: bhk, dtype: int64"
            ]
          },
          "metadata": {
            "tags": []
          },
          "execution_count": 17
        }
      ]
    },
    {
      "cell_type": "code",
      "metadata": {
        "id": "os92dMQqPg6T",
        "colab_type": "code",
        "colab": {
          "base_uri": "https://localhost:8080/",
          "height": 51
        },
        "outputId": "998eded2-a1e6-4530-c685-804d1aaad660"
      },
      "source": [
        "# Exploring the total_sqft column\n",
        "df.total_sqft.unique()\n"
      ],
      "execution_count": 18,
      "outputs": [
        {
          "output_type": "execute_result",
          "data": {
            "text/plain": [
              "array(['1056', '2600', '1440', ..., '1133 - 1384', '774', '4689'],\n",
              "      dtype=object)"
            ]
          },
          "metadata": {
            "tags": []
          },
          "execution_count": 18
        }
      ]
    },
    {
      "cell_type": "code",
      "metadata": {
        "id": "EsK8x2TePyXG",
        "colab_type": "code",
        "colab": {}
      },
      "source": [
        "# Since the total_sqft contains range values such as 1133-1384, lets filter out these values\n",
        "def isFloat(x):\n",
        "    try:\n",
        "        float(x)\n",
        "    except:\n",
        "        return False\n",
        "    return True"
      ],
      "execution_count": 27,
      "outputs": []
    },
    {
      "cell_type": "code",
      "metadata": {
        "id": "pewbPB2cP3HQ",
        "colab_type": "code",
        "colab": {
          "base_uri": "https://localhost:8080/",
          "height": 419
        },
        "outputId": "a2574f7f-e579-4f9f-907f-178b02378853"
      },
      "source": [
        "# Displaying all the rows that are not integers\n",
        "df[~df['total_sqft'].apply(isFloat)]"
      ],
      "execution_count": 20,
      "outputs": [
        {
          "output_type": "execute_result",
          "data": {
            "text/html": [
              "<div>\n",
              "<style scoped>\n",
              "    .dataframe tbody tr th:only-of-type {\n",
              "        vertical-align: middle;\n",
              "    }\n",
              "\n",
              "    .dataframe tbody tr th {\n",
              "        vertical-align: top;\n",
              "    }\n",
              "\n",
              "    .dataframe thead th {\n",
              "        text-align: right;\n",
              "    }\n",
              "</style>\n",
              "<table border=\"1\" class=\"dataframe\">\n",
              "  <thead>\n",
              "    <tr style=\"text-align: right;\">\n",
              "      <th></th>\n",
              "      <th>area_type</th>\n",
              "      <th>availability</th>\n",
              "      <th>total_sqft</th>\n",
              "      <th>bath</th>\n",
              "      <th>balcony</th>\n",
              "      <th>price</th>\n",
              "      <th>site_location</th>\n",
              "      <th>bhk</th>\n",
              "    </tr>\n",
              "  </thead>\n",
              "  <tbody>\n",
              "    <tr>\n",
              "      <th>30</th>\n",
              "      <td>Super built-up  Area</td>\n",
              "      <td>19-Dec</td>\n",
              "      <td>2100 - 2850</td>\n",
              "      <td>4.0</td>\n",
              "      <td>0.0</td>\n",
              "      <td>186.000</td>\n",
              "      <td>Gultekdi</td>\n",
              "      <td>4</td>\n",
              "    </tr>\n",
              "    <tr>\n",
              "      <th>56</th>\n",
              "      <td>Built-up  Area</td>\n",
              "      <td>20-Feb</td>\n",
              "      <td>3010 - 3410</td>\n",
              "      <td>2.0</td>\n",
              "      <td>2.0</td>\n",
              "      <td>192.000</td>\n",
              "      <td>Model colony</td>\n",
              "      <td>4</td>\n",
              "    </tr>\n",
              "    <tr>\n",
              "      <th>81</th>\n",
              "      <td>Built-up  Area</td>\n",
              "      <td>18-Oct</td>\n",
              "      <td>2957 - 3450</td>\n",
              "      <td>2.0</td>\n",
              "      <td>2.0</td>\n",
              "      <td>224.500</td>\n",
              "      <td>Shukrawar Peth</td>\n",
              "      <td>4</td>\n",
              "    </tr>\n",
              "    <tr>\n",
              "      <th>122</th>\n",
              "      <td>Super built-up  Area</td>\n",
              "      <td>18-Mar</td>\n",
              "      <td>3067 - 8156</td>\n",
              "      <td>4.0</td>\n",
              "      <td>0.0</td>\n",
              "      <td>477.000</td>\n",
              "      <td>Ganeshkhind</td>\n",
              "      <td>4</td>\n",
              "    </tr>\n",
              "    <tr>\n",
              "      <th>137</th>\n",
              "      <td>Super built-up  Area</td>\n",
              "      <td>19-Mar</td>\n",
              "      <td>1042 - 1105</td>\n",
              "      <td>2.0</td>\n",
              "      <td>0.0</td>\n",
              "      <td>54.005</td>\n",
              "      <td>Khadaki</td>\n",
              "      <td>2</td>\n",
              "    </tr>\n",
              "    <tr>\n",
              "      <th>...</th>\n",
              "      <td>...</td>\n",
              "      <td>...</td>\n",
              "      <td>...</td>\n",
              "      <td>...</td>\n",
              "      <td>...</td>\n",
              "      <td>...</td>\n",
              "      <td>...</td>\n",
              "      <td>...</td>\n",
              "    </tr>\n",
              "    <tr>\n",
              "      <th>12990</th>\n",
              "      <td>Super built-up  Area</td>\n",
              "      <td>18-May</td>\n",
              "      <td>1804 - 2273</td>\n",
              "      <td>3.0</td>\n",
              "      <td>0.0</td>\n",
              "      <td>122.000</td>\n",
              "      <td>Gokhale Nagar</td>\n",
              "      <td>3</td>\n",
              "    </tr>\n",
              "    <tr>\n",
              "      <th>13059</th>\n",
              "      <td>Super built-up  Area</td>\n",
              "      <td>Ready To Move</td>\n",
              "      <td>1200 - 1470</td>\n",
              "      <td>2.0</td>\n",
              "      <td>0.0</td>\n",
              "      <td>72.760</td>\n",
              "      <td>Anandnagar</td>\n",
              "      <td>2</td>\n",
              "    </tr>\n",
              "    <tr>\n",
              "      <th>13240</th>\n",
              "      <td>Super built-up  Area</td>\n",
              "      <td>Ready To Move</td>\n",
              "      <td>1020 - 1130</td>\n",
              "      <td>2.0</td>\n",
              "      <td>2.0</td>\n",
              "      <td>52.570</td>\n",
              "      <td>Vadgaon Budruk</td>\n",
              "      <td>1</td>\n",
              "    </tr>\n",
              "    <tr>\n",
              "      <th>13265</th>\n",
              "      <td>Super built-up  Area</td>\n",
              "      <td>20-Sep</td>\n",
              "      <td>1133 - 1384</td>\n",
              "      <td>2.0</td>\n",
              "      <td>0.0</td>\n",
              "      <td>59.135</td>\n",
              "      <td>Dapodi</td>\n",
              "      <td>2</td>\n",
              "    </tr>\n",
              "    <tr>\n",
              "      <th>13299</th>\n",
              "      <td>Super built-up  Area</td>\n",
              "      <td>18-Dec</td>\n",
              "      <td>2830 - 2882</td>\n",
              "      <td>5.0</td>\n",
              "      <td>0.0</td>\n",
              "      <td>154.500</td>\n",
              "      <td>Laxmi Road</td>\n",
              "      <td>4</td>\n",
              "    </tr>\n",
              "  </tbody>\n",
              "</table>\n",
              "<p>239 rows × 8 columns</p>\n",
              "</div>"
            ],
            "text/plain": [
              "                  area_type   availability  ...   site_location  bhk\n",
              "30     Super built-up  Area         19-Dec  ...        Gultekdi    4\n",
              "56           Built-up  Area         20-Feb  ...    Model colony    4\n",
              "81           Built-up  Area         18-Oct  ...  Shukrawar Peth    4\n",
              "122    Super built-up  Area         18-Mar  ...     Ganeshkhind    4\n",
              "137    Super built-up  Area         19-Mar  ...         Khadaki    2\n",
              "...                     ...            ...  ...             ...  ...\n",
              "12990  Super built-up  Area         18-May  ...   Gokhale Nagar    3\n",
              "13059  Super built-up  Area  Ready To Move  ...      Anandnagar    2\n",
              "13240  Super built-up  Area  Ready To Move  ...  Vadgaon Budruk    1\n",
              "13265  Super built-up  Area         20-Sep  ...          Dapodi    2\n",
              "13299  Super built-up  Area         18-Dec  ...      Laxmi Road    4\n",
              "\n",
              "[239 rows x 8 columns]"
            ]
          },
          "metadata": {
            "tags": []
          },
          "execution_count": 20
        }
      ]
    },
    {
      "cell_type": "code",
      "metadata": {
        "id": "PNAoabTeTx7H",
        "colab_type": "code",
        "colab": {}
      },
      "source": [
        "# Converting the range values to integer values and removing other types of error\n",
        "def convert_sqft_to_num(x):\n",
        "    tokens = x.split('-')\n",
        "    if len(tokens) == 2:\n",
        "        return (float(tokens[0])+float(tokens[1]))/2\n",
        "    try:\n",
        "        return float(x)\n",
        "    except:\n",
        "        return None"
      ],
      "execution_count": 28,
      "outputs": []
    },
    {
      "cell_type": "code",
      "metadata": {
        "id": "Aq3sWLbPTh-w",
        "colab_type": "code",
        "colab": {
          "base_uri": "https://localhost:8080/",
          "height": 204
        },
        "outputId": "656a780b-0f46-4f7b-8e7e-65798d8495da"
      },
      "source": [
        "df['new_total_sqft'] = df.total_sqft.apply(convert_sqft_to_num)\n",
        "df = df.drop('total_sqft', axis='columns')\n",
        "df.head()"
      ],
      "execution_count": 29,
      "outputs": [
        {
          "output_type": "execute_result",
          "data": {
            "text/html": [
              "<div>\n",
              "<style scoped>\n",
              "    .dataframe tbody tr th:only-of-type {\n",
              "        vertical-align: middle;\n",
              "    }\n",
              "\n",
              "    .dataframe tbody tr th {\n",
              "        vertical-align: top;\n",
              "    }\n",
              "\n",
              "    .dataframe thead th {\n",
              "        text-align: right;\n",
              "    }\n",
              "</style>\n",
              "<table border=\"1\" class=\"dataframe\">\n",
              "  <thead>\n",
              "    <tr style=\"text-align: right;\">\n",
              "      <th></th>\n",
              "      <th>area_type</th>\n",
              "      <th>availability</th>\n",
              "      <th>bath</th>\n",
              "      <th>balcony</th>\n",
              "      <th>price</th>\n",
              "      <th>site_location</th>\n",
              "      <th>bhk</th>\n",
              "      <th>new_total_sqft</th>\n",
              "    </tr>\n",
              "  </thead>\n",
              "  <tbody>\n",
              "    <tr>\n",
              "      <th>0</th>\n",
              "      <td>Super built-up  Area</td>\n",
              "      <td>19-Dec</td>\n",
              "      <td>2.0</td>\n",
              "      <td>1.0</td>\n",
              "      <td>39.07</td>\n",
              "      <td>Alandi Road</td>\n",
              "      <td>2</td>\n",
              "      <td>1056.0</td>\n",
              "    </tr>\n",
              "    <tr>\n",
              "      <th>1</th>\n",
              "      <td>Plot  Area</td>\n",
              "      <td>Ready To Move</td>\n",
              "      <td>5.0</td>\n",
              "      <td>3.0</td>\n",
              "      <td>120.00</td>\n",
              "      <td>Ambegaon Budruk</td>\n",
              "      <td>4</td>\n",
              "      <td>2600.0</td>\n",
              "    </tr>\n",
              "    <tr>\n",
              "      <th>2</th>\n",
              "      <td>Built-up  Area</td>\n",
              "      <td>Ready To Move</td>\n",
              "      <td>2.0</td>\n",
              "      <td>3.0</td>\n",
              "      <td>62.00</td>\n",
              "      <td>Anandnagar</td>\n",
              "      <td>3</td>\n",
              "      <td>1440.0</td>\n",
              "    </tr>\n",
              "    <tr>\n",
              "      <th>3</th>\n",
              "      <td>Super built-up  Area</td>\n",
              "      <td>Ready To Move</td>\n",
              "      <td>3.0</td>\n",
              "      <td>1.0</td>\n",
              "      <td>95.00</td>\n",
              "      <td>Aundh</td>\n",
              "      <td>3</td>\n",
              "      <td>1521.0</td>\n",
              "    </tr>\n",
              "    <tr>\n",
              "      <th>4</th>\n",
              "      <td>Super built-up  Area</td>\n",
              "      <td>Ready To Move</td>\n",
              "      <td>2.0</td>\n",
              "      <td>1.0</td>\n",
              "      <td>51.00</td>\n",
              "      <td>Aundh Road</td>\n",
              "      <td>2</td>\n",
              "      <td>1200.0</td>\n",
              "    </tr>\n",
              "  </tbody>\n",
              "</table>\n",
              "</div>"
            ],
            "text/plain": [
              "              area_type   availability  ...  bhk  new_total_sqft\n",
              "0  Super built-up  Area         19-Dec  ...    2          1056.0\n",
              "1            Plot  Area  Ready To Move  ...    4          2600.0\n",
              "2        Built-up  Area  Ready To Move  ...    3          1440.0\n",
              "3  Super built-up  Area  Ready To Move  ...    3          1521.0\n",
              "4  Super built-up  Area  Ready To Move  ...    2          1200.0\n",
              "\n",
              "[5 rows x 8 columns]"
            ]
          },
          "metadata": {
            "tags": []
          },
          "execution_count": 29
        }
      ]
    },
    {
      "cell_type": "code",
      "metadata": {
        "id": "V8MQdb6oUDUQ",
        "colab_type": "code",
        "colab": {
          "base_uri": "https://localhost:8080/",
          "height": 49
        },
        "outputId": "10c2dbb9-9a64-426b-9571-dba18693dcbe"
      },
      "source": [
        "# Displaying all the rows that are not integers\n",
        "df[~df['new_total_sqft'].apply(isFloat)]"
      ],
      "execution_count": 34,
      "outputs": [
        {
          "output_type": "execute_result",
          "data": {
            "text/html": [
              "<div>\n",
              "<style scoped>\n",
              "    .dataframe tbody tr th:only-of-type {\n",
              "        vertical-align: middle;\n",
              "    }\n",
              "\n",
              "    .dataframe tbody tr th {\n",
              "        vertical-align: top;\n",
              "    }\n",
              "\n",
              "    .dataframe thead th {\n",
              "        text-align: right;\n",
              "    }\n",
              "</style>\n",
              "<table border=\"1\" class=\"dataframe\">\n",
              "  <thead>\n",
              "    <tr style=\"text-align: right;\">\n",
              "      <th></th>\n",
              "      <th>area_type</th>\n",
              "      <th>availability</th>\n",
              "      <th>bath</th>\n",
              "      <th>balcony</th>\n",
              "      <th>price</th>\n",
              "      <th>site_location</th>\n",
              "      <th>bhk</th>\n",
              "      <th>new_total_sqft</th>\n",
              "    </tr>\n",
              "  </thead>\n",
              "  <tbody>\n",
              "  </tbody>\n",
              "</table>\n",
              "</div>"
            ],
            "text/plain": [
              "Empty DataFrame\n",
              "Columns: [area_type, availability, bath, balcony, price, site_location, bhk, new_total_sqft]\n",
              "Index: []"
            ]
          },
          "metadata": {
            "tags": []
          },
          "execution_count": 34
        }
      ]
    },
    {
      "cell_type": "code",
      "metadata": {
        "id": "VSW5RyuiQFs_",
        "colab_type": "code",
        "colab": {
          "base_uri": "https://localhost:8080/",
          "height": 34
        },
        "outputId": "6e344286-3037-4f30-a0a2-041311698bd2"
      },
      "source": [
        "# Exploring the dataset\n",
        "df.shape"
      ],
      "execution_count": 21,
      "outputs": [
        {
          "output_type": "execute_result",
          "data": {
            "text/plain": [
              "(13303, 8)"
            ]
          },
          "metadata": {
            "tags": []
          },
          "execution_count": 21
        }
      ]
    },
    {
      "cell_type": "code",
      "metadata": {
        "id": "JPlCG7s6QM0m",
        "colab_type": "code",
        "colab": {
          "base_uri": "https://localhost:8080/",
          "height": 119
        },
        "outputId": "c969f11f-e541-4d6e-e5a0-4e70b7a5a339"
      },
      "source": [
        "# Exploring the dataset\n",
        "df.groupby('area_type')['area_type'].agg('count')"
      ],
      "execution_count": 22,
      "outputs": [
        {
          "output_type": "execute_result",
          "data": {
            "text/plain": [
              "area_type\n",
              "Built-up  Area          2418\n",
              "Carpet  Area              87\n",
              "Plot  Area              2009\n",
              "Super built-up  Area    8789\n",
              "Name: area_type, dtype: int64"
            ]
          },
          "metadata": {
            "tags": []
          },
          "execution_count": 22
        }
      ]
    },
    {
      "cell_type": "code",
      "metadata": {
        "id": "I-3ChkEgQWq9",
        "colab_type": "code",
        "colab": {
          "base_uri": "https://localhost:8080/",
          "height": 374
        },
        "outputId": "82755932-6349-43ef-d34f-3b725eda7287"
      },
      "source": [
        "\n",
        "# Exploring the dataset\n",
        "df.groupby('bhk')['bhk'].agg('count')"
      ],
      "execution_count": 24,
      "outputs": [
        {
          "output_type": "execute_result",
          "data": {
            "text/plain": [
              "bhk\n",
              "1      656\n",
              "2     5527\n",
              "3     4857\n",
              "4     1417\n",
              "5      356\n",
              "6      221\n",
              "7      100\n",
              "8       89\n",
              "9       54\n",
              "10      14\n",
              "11       4\n",
              "12       1\n",
              "13       1\n",
              "14       1\n",
              "16       1\n",
              "18       1\n",
              "19       1\n",
              "27       1\n",
              "43       1\n",
              "Name: bhk, dtype: int64"
            ]
          },
          "metadata": {
            "tags": []
          },
          "execution_count": 24
        }
      ]
    },
    {
      "cell_type": "code",
      "metadata": {
        "id": "w5s7ysOBQj_Y",
        "colab_type": "code",
        "colab": {
          "base_uri": "https://localhost:8080/",
          "height": 238
        },
        "outputId": "a6cc579e-b3a2-4233-80f2-584ce15c5a45"
      },
      "source": [
        "# Exploring the dataset\n",
        "df.groupby('site_location')['site_location'].agg('count')"
      ],
      "execution_count": 25,
      "outputs": [
        {
          "output_type": "execute_result",
          "data": {
            "text/plain": [
              "site_location\n",
              "Alandi Road        139\n",
              "Ambegaon Budruk    139\n",
              "Anandnagar         139\n",
              "Aundh              138\n",
              "Aundh Road         139\n",
              "                  ... \n",
              "Wakadewadi         138\n",
              "Wanowrie           138\n",
              "Warje              137\n",
              "Yerawada           137\n",
              "other                1\n",
              "Name: site_location, Length: 97, dtype: int64"
            ]
          },
          "metadata": {
            "tags": []
          },
          "execution_count": 25
        }
      ]
    },
    {
      "cell_type": "code",
      "metadata": {
        "id": "HWaTqSh4Qpyl",
        "colab_type": "code",
        "colab": {
          "base_uri": "https://localhost:8080/",
          "height": 204
        },
        "outputId": "a357cbb3-9fce-4164-ee98-2347c1476712"
      },
      "source": [
        "df.head()"
      ],
      "execution_count": 26,
      "outputs": [
        {
          "output_type": "execute_result",
          "data": {
            "text/html": [
              "<div>\n",
              "<style scoped>\n",
              "    .dataframe tbody tr th:only-of-type {\n",
              "        vertical-align: middle;\n",
              "    }\n",
              "\n",
              "    .dataframe tbody tr th {\n",
              "        vertical-align: top;\n",
              "    }\n",
              "\n",
              "    .dataframe thead th {\n",
              "        text-align: right;\n",
              "    }\n",
              "</style>\n",
              "<table border=\"1\" class=\"dataframe\">\n",
              "  <thead>\n",
              "    <tr style=\"text-align: right;\">\n",
              "      <th></th>\n",
              "      <th>area_type</th>\n",
              "      <th>availability</th>\n",
              "      <th>total_sqft</th>\n",
              "      <th>bath</th>\n",
              "      <th>balcony</th>\n",
              "      <th>price</th>\n",
              "      <th>site_location</th>\n",
              "      <th>bhk</th>\n",
              "    </tr>\n",
              "  </thead>\n",
              "  <tbody>\n",
              "    <tr>\n",
              "      <th>0</th>\n",
              "      <td>Super built-up  Area</td>\n",
              "      <td>19-Dec</td>\n",
              "      <td>1056</td>\n",
              "      <td>2.0</td>\n",
              "      <td>1.0</td>\n",
              "      <td>39.07</td>\n",
              "      <td>Alandi Road</td>\n",
              "      <td>2</td>\n",
              "    </tr>\n",
              "    <tr>\n",
              "      <th>1</th>\n",
              "      <td>Plot  Area</td>\n",
              "      <td>Ready To Move</td>\n",
              "      <td>2600</td>\n",
              "      <td>5.0</td>\n",
              "      <td>3.0</td>\n",
              "      <td>120.00</td>\n",
              "      <td>Ambegaon Budruk</td>\n",
              "      <td>4</td>\n",
              "    </tr>\n",
              "    <tr>\n",
              "      <th>2</th>\n",
              "      <td>Built-up  Area</td>\n",
              "      <td>Ready To Move</td>\n",
              "      <td>1440</td>\n",
              "      <td>2.0</td>\n",
              "      <td>3.0</td>\n",
              "      <td>62.00</td>\n",
              "      <td>Anandnagar</td>\n",
              "      <td>3</td>\n",
              "    </tr>\n",
              "    <tr>\n",
              "      <th>3</th>\n",
              "      <td>Super built-up  Area</td>\n",
              "      <td>Ready To Move</td>\n",
              "      <td>1521</td>\n",
              "      <td>3.0</td>\n",
              "      <td>1.0</td>\n",
              "      <td>95.00</td>\n",
              "      <td>Aundh</td>\n",
              "      <td>3</td>\n",
              "    </tr>\n",
              "    <tr>\n",
              "      <th>4</th>\n",
              "      <td>Super built-up  Area</td>\n",
              "      <td>Ready To Move</td>\n",
              "      <td>1200</td>\n",
              "      <td>2.0</td>\n",
              "      <td>1.0</td>\n",
              "      <td>51.00</td>\n",
              "      <td>Aundh Road</td>\n",
              "      <td>2</td>\n",
              "    </tr>\n",
              "  </tbody>\n",
              "</table>\n",
              "</div>"
            ],
            "text/plain": [
              "              area_type   availability total_sqft  ...   price    site_location  bhk\n",
              "0  Super built-up  Area         19-Dec       1056  ...   39.07      Alandi Road    2\n",
              "1            Plot  Area  Ready To Move       2600  ...  120.00  Ambegaon Budruk    4\n",
              "2        Built-up  Area  Ready To Move       1440  ...   62.00       Anandnagar    3\n",
              "3  Super built-up  Area  Ready To Move       1521  ...   95.00            Aundh    3\n",
              "4  Super built-up  Area  Ready To Move       1200  ...   51.00       Aundh Road    2\n",
              "\n",
              "[5 rows x 8 columns]"
            ]
          },
          "metadata": {
            "tags": []
          },
          "execution_count": 26
        }
      ]
    },
    {
      "cell_type": "code",
      "metadata": {
        "id": "Q_ekKVLjTe2m",
        "colab_type": "code",
        "colab": {
          "base_uri": "https://localhost:8080/",
          "height": 170
        },
        "outputId": "8807ab8e-57cb-486a-c89f-eb407ec400eb"
      },
      "source": [
        "# Removing the rows in new_total_sqft column that hase None values\n",
        "df.isna().sum()"
      ],
      "execution_count": 35,
      "outputs": [
        {
          "output_type": "execute_result",
          "data": {
            "text/plain": [
              "area_type          0\n",
              "availability       0\n",
              "bath               0\n",
              "balcony            0\n",
              "price              0\n",
              "site_location      0\n",
              "bhk                0\n",
              "new_total_sqft    46\n",
              "dtype: int64"
            ]
          },
          "metadata": {
            "tags": []
          },
          "execution_count": 35
        }
      ]
    },
    {
      "cell_type": "code",
      "metadata": {
        "id": "XzKBnYSCUpas",
        "colab_type": "code",
        "colab": {
          "base_uri": "https://localhost:8080/",
          "height": 170
        },
        "outputId": "1a848089-f27a-4ad7-db85-00504b6f469b"
      },
      "source": [
        "# Removing the rows in new_total_sqft column that hase None values\n",
        "df = df.dropna()\n",
        "df.isna().sum()"
      ],
      "execution_count": 36,
      "outputs": [
        {
          "output_type": "execute_result",
          "data": {
            "text/plain": [
              "area_type         0\n",
              "availability      0\n",
              "bath              0\n",
              "balcony           0\n",
              "price             0\n",
              "site_location     0\n",
              "bhk               0\n",
              "new_total_sqft    0\n",
              "dtype: int64"
            ]
          },
          "metadata": {
            "tags": []
          },
          "execution_count": 36
        }
      ]
    },
    {
      "cell_type": "markdown",
      "metadata": {
        "id": "b0Y6q7BAWT2N",
        "colab_type": "text"
      },
      "source": [
        "## **Feature Engineering**"
      ]
    },
    {
      "cell_type": "code",
      "metadata": {
        "id": "UMfBf6N-WWmG",
        "colab_type": "code",
        "colab": {
          "base_uri": "https://localhost:8080/",
          "height": 204
        },
        "outputId": "626d1b8e-1ba0-413d-97b6-4d36ed2b9215"
      },
      "source": [
        "# Adding a new column of price_per_sqft\n",
        "df1 = df.copy()\n",
        "\n",
        "# In our dataset the price column is in Lakhs\n",
        "df1['price_per_sqft'] = (df1['price']*100000)/df1['new_total_sqft']\n",
        "df1.head()"
      ],
      "execution_count": 37,
      "outputs": [
        {
          "output_type": "execute_result",
          "data": {
            "text/html": [
              "<div>\n",
              "<style scoped>\n",
              "    .dataframe tbody tr th:only-of-type {\n",
              "        vertical-align: middle;\n",
              "    }\n",
              "\n",
              "    .dataframe tbody tr th {\n",
              "        vertical-align: top;\n",
              "    }\n",
              "\n",
              "    .dataframe thead th {\n",
              "        text-align: right;\n",
              "    }\n",
              "</style>\n",
              "<table border=\"1\" class=\"dataframe\">\n",
              "  <thead>\n",
              "    <tr style=\"text-align: right;\">\n",
              "      <th></th>\n",
              "      <th>area_type</th>\n",
              "      <th>availability</th>\n",
              "      <th>bath</th>\n",
              "      <th>balcony</th>\n",
              "      <th>price</th>\n",
              "      <th>site_location</th>\n",
              "      <th>bhk</th>\n",
              "      <th>new_total_sqft</th>\n",
              "      <th>price_per_sqft</th>\n",
              "    </tr>\n",
              "  </thead>\n",
              "  <tbody>\n",
              "    <tr>\n",
              "      <th>0</th>\n",
              "      <td>Super built-up  Area</td>\n",
              "      <td>19-Dec</td>\n",
              "      <td>2.0</td>\n",
              "      <td>1.0</td>\n",
              "      <td>39.07</td>\n",
              "      <td>Alandi Road</td>\n",
              "      <td>2</td>\n",
              "      <td>1056.0</td>\n",
              "      <td>3699.810606</td>\n",
              "    </tr>\n",
              "    <tr>\n",
              "      <th>1</th>\n",
              "      <td>Plot  Area</td>\n",
              "      <td>Ready To Move</td>\n",
              "      <td>5.0</td>\n",
              "      <td>3.0</td>\n",
              "      <td>120.00</td>\n",
              "      <td>Ambegaon Budruk</td>\n",
              "      <td>4</td>\n",
              "      <td>2600.0</td>\n",
              "      <td>4615.384615</td>\n",
              "    </tr>\n",
              "    <tr>\n",
              "      <th>2</th>\n",
              "      <td>Built-up  Area</td>\n",
              "      <td>Ready To Move</td>\n",
              "      <td>2.0</td>\n",
              "      <td>3.0</td>\n",
              "      <td>62.00</td>\n",
              "      <td>Anandnagar</td>\n",
              "      <td>3</td>\n",
              "      <td>1440.0</td>\n",
              "      <td>4305.555556</td>\n",
              "    </tr>\n",
              "    <tr>\n",
              "      <th>3</th>\n",
              "      <td>Super built-up  Area</td>\n",
              "      <td>Ready To Move</td>\n",
              "      <td>3.0</td>\n",
              "      <td>1.0</td>\n",
              "      <td>95.00</td>\n",
              "      <td>Aundh</td>\n",
              "      <td>3</td>\n",
              "      <td>1521.0</td>\n",
              "      <td>6245.890861</td>\n",
              "    </tr>\n",
              "    <tr>\n",
              "      <th>4</th>\n",
              "      <td>Super built-up  Area</td>\n",
              "      <td>Ready To Move</td>\n",
              "      <td>2.0</td>\n",
              "      <td>1.0</td>\n",
              "      <td>51.00</td>\n",
              "      <td>Aundh Road</td>\n",
              "      <td>2</td>\n",
              "      <td>1200.0</td>\n",
              "      <td>4250.000000</td>\n",
              "    </tr>\n",
              "  </tbody>\n",
              "</table>\n",
              "</div>"
            ],
            "text/plain": [
              "              area_type   availability  ...  new_total_sqft  price_per_sqft\n",
              "0  Super built-up  Area         19-Dec  ...          1056.0     3699.810606\n",
              "1            Plot  Area  Ready To Move  ...          2600.0     4615.384615\n",
              "2        Built-up  Area  Ready To Move  ...          1440.0     4305.555556\n",
              "3  Super built-up  Area  Ready To Move  ...          1521.0     6245.890861\n",
              "4  Super built-up  Area  Ready To Move  ...          1200.0     4250.000000\n",
              "\n",
              "[5 rows x 9 columns]"
            ]
          },
          "metadata": {
            "tags": []
          },
          "execution_count": 37
        }
      ]
    },
    {
      "cell_type": "code",
      "metadata": {
        "id": "ETi_OVBJYClr",
        "colab_type": "code",
        "colab": {
          "base_uri": "https://localhost:8080/",
          "height": 238
        },
        "outputId": "5aa3a369-b27a-407d-a9f0-36a69467d6f6"
      },
      "source": [
        "# Calulating all the unqiue values in 'site_location' column\n",
        "location_stats = df1.groupby('site_location')['site_location'].agg('count').sort_values(ascending=False)\n",
        "location_stats"
      ],
      "execution_count": 39,
      "outputs": [
        {
          "output_type": "execute_result",
          "data": {
            "text/plain": [
              "site_location\n",
              "Pune Railway Station    139\n",
              "Paud Road               139\n",
              "Ganesh Peth             139\n",
              "Mangalwar peth          139\n",
              "Manik Bagh              139\n",
              "                       ... \n",
              "Nagar Road              136\n",
              "Narayangaon             136\n",
              "Fatima Nagar            136\n",
              "Camp                    136\n",
              "other                     1\n",
              "Name: site_location, Length: 97, dtype: int64"
            ]
          },
          "metadata": {
            "tags": []
          },
          "execution_count": 39
        }
      ]
    },
    {
      "cell_type": "code",
      "metadata": {
        "id": "59yFNM03YRmj",
        "colab_type": "code",
        "colab": {
          "base_uri": "https://localhost:8080/",
          "height": 34
        },
        "outputId": "dd2f2735-c7fc-44a1-caac-6cb6838f1c60"
      },
      "source": [
        "# Checking locations with less than 10 values\n",
        "print(len(location_stats[location_stats<=10]), len(df1.site_location.unique()))"
      ],
      "execution_count": 40,
      "outputs": [
        {
          "output_type": "stream",
          "text": [
            "1 97\n"
          ],
          "name": "stdout"
        }
      ]
    },
    {
      "cell_type": "code",
      "metadata": {
        "id": "KbVtYXAiYp4e",
        "colab_type": "code",
        "colab": {
          "base_uri": "https://localhost:8080/",
          "height": 34
        },
        "outputId": "713549d2-59c2-4f3a-8f41-5d49464b5d2d"
      },
      "source": [
        "# Labelling the locations with less than or equal to 10 occurences to 'other'\n",
        "locations_less_than_10 = location_stats[location_stats<=10]\n",
        "\n",
        "df1.site_location = df1.site_location.apply(lambda x: 'other' if x in locations_less_than_10 else x)\n",
        "len(df1.site_location.unique())"
      ],
      "execution_count": 42,
      "outputs": [
        {
          "output_type": "execute_result",
          "data": {
            "text/plain": [
              "97"
            ]
          },
          "metadata": {
            "tags": []
          },
          "execution_count": 42
        }
      ]
    },
    {
      "cell_type": "code",
      "metadata": {
        "id": "LLCN7m7WZAYQ",
        "colab_type": "code",
        "colab": {
          "base_uri": "https://localhost:8080/",
          "height": 238
        },
        "outputId": "a9ca791f-6a4d-4b76-d1d7-03d5d06c05e8"
      },
      "source": [
        "# Checking the unique values in 'availability column'\n",
        "df1.groupby('availability')['availability'].agg('count').sort_values(ascending=False)"
      ],
      "execution_count": 43,
      "outputs": [
        {
          "output_type": "execute_result",
          "data": {
            "text/plain": [
              "availability\n",
              "Ready To Move    10541\n",
              "18-Dec             306\n",
              "18-May             294\n",
              "18-Apr             271\n",
              "18-Aug             199\n",
              "                 ...  \n",
              "15-Jun               1\n",
              "15-Dec               1\n",
              "15-Aug               1\n",
              "14-Nov               1\n",
              "14-Jul               1\n",
              "Name: availability, Length: 80, dtype: int64"
            ]
          },
          "metadata": {
            "tags": []
          },
          "execution_count": 43
        }
      ]
    },
    {
      "cell_type": "code",
      "metadata": {
        "id": "c8HaMAkmZZDO",
        "colab_type": "code",
        "colab": {
          "base_uri": "https://localhost:8080/",
          "height": 238
        },
        "outputId": "f906b09c-e9b2-4b48-99fb-8c39f4009a45"
      },
      "source": [
        "# Labelling the dates into Not Ready\n",
        "dates = df1.groupby('availability')['availability'].agg('count').sort_values(ascending=False)\n",
        "dates"
      ],
      "execution_count": 44,
      "outputs": [
        {
          "output_type": "execute_result",
          "data": {
            "text/plain": [
              "availability\n",
              "Ready To Move    10541\n",
              "18-Dec             306\n",
              "18-May             294\n",
              "18-Apr             271\n",
              "18-Aug             199\n",
              "                 ...  \n",
              "15-Jun               1\n",
              "15-Dec               1\n",
              "15-Aug               1\n",
              "14-Nov               1\n",
              "14-Jul               1\n",
              "Name: availability, Length: 80, dtype: int64"
            ]
          },
          "metadata": {
            "tags": []
          },
          "execution_count": 44
        }
      ]
    },
    {
      "cell_type": "code",
      "metadata": {
        "id": "Oi-lpFlhZnQw",
        "colab_type": "code",
        "colab": {
          "base_uri": "https://localhost:8080/",
          "height": 34
        },
        "outputId": "392e0b49-1dad-422e-efed-d75a63cb3716"
      },
      "source": [
        "dates_not_ready = dates[dates<10000]\n",
        "df1.availability = df1.availability.apply(lambda x: 'Not Ready' if x in dates_not_ready else x)\n",
        "\n",
        "len(df1.availability.unique())"
      ],
      "execution_count": 45,
      "outputs": [
        {
          "output_type": "execute_result",
          "data": {
            "text/plain": [
              "2"
            ]
          },
          "metadata": {
            "tags": []
          },
          "execution_count": 45
        }
      ]
    },
    {
      "cell_type": "code",
      "metadata": {
        "id": "MzTvpFSgZt7u",
        "colab_type": "code",
        "colab": {
          "base_uri": "https://localhost:8080/",
          "height": 204
        },
        "outputId": "340c2648-97a3-4fe4-b238-22344e652d5d"
      },
      "source": [
        "df1.head()"
      ],
      "execution_count": 46,
      "outputs": [
        {
          "output_type": "execute_result",
          "data": {
            "text/html": [
              "<div>\n",
              "<style scoped>\n",
              "    .dataframe tbody tr th:only-of-type {\n",
              "        vertical-align: middle;\n",
              "    }\n",
              "\n",
              "    .dataframe tbody tr th {\n",
              "        vertical-align: top;\n",
              "    }\n",
              "\n",
              "    .dataframe thead th {\n",
              "        text-align: right;\n",
              "    }\n",
              "</style>\n",
              "<table border=\"1\" class=\"dataframe\">\n",
              "  <thead>\n",
              "    <tr style=\"text-align: right;\">\n",
              "      <th></th>\n",
              "      <th>area_type</th>\n",
              "      <th>availability</th>\n",
              "      <th>bath</th>\n",
              "      <th>balcony</th>\n",
              "      <th>price</th>\n",
              "      <th>site_location</th>\n",
              "      <th>bhk</th>\n",
              "      <th>new_total_sqft</th>\n",
              "      <th>price_per_sqft</th>\n",
              "    </tr>\n",
              "  </thead>\n",
              "  <tbody>\n",
              "    <tr>\n",
              "      <th>0</th>\n",
              "      <td>Super built-up  Area</td>\n",
              "      <td>Not Ready</td>\n",
              "      <td>2.0</td>\n",
              "      <td>1.0</td>\n",
              "      <td>39.07</td>\n",
              "      <td>Alandi Road</td>\n",
              "      <td>2</td>\n",
              "      <td>1056.0</td>\n",
              "      <td>3699.810606</td>\n",
              "    </tr>\n",
              "    <tr>\n",
              "      <th>1</th>\n",
              "      <td>Plot  Area</td>\n",
              "      <td>Ready To Move</td>\n",
              "      <td>5.0</td>\n",
              "      <td>3.0</td>\n",
              "      <td>120.00</td>\n",
              "      <td>Ambegaon Budruk</td>\n",
              "      <td>4</td>\n",
              "      <td>2600.0</td>\n",
              "      <td>4615.384615</td>\n",
              "    </tr>\n",
              "    <tr>\n",
              "      <th>2</th>\n",
              "      <td>Built-up  Area</td>\n",
              "      <td>Ready To Move</td>\n",
              "      <td>2.0</td>\n",
              "      <td>3.0</td>\n",
              "      <td>62.00</td>\n",
              "      <td>Anandnagar</td>\n",
              "      <td>3</td>\n",
              "      <td>1440.0</td>\n",
              "      <td>4305.555556</td>\n",
              "    </tr>\n",
              "    <tr>\n",
              "      <th>3</th>\n",
              "      <td>Super built-up  Area</td>\n",
              "      <td>Ready To Move</td>\n",
              "      <td>3.0</td>\n",
              "      <td>1.0</td>\n",
              "      <td>95.00</td>\n",
              "      <td>Aundh</td>\n",
              "      <td>3</td>\n",
              "      <td>1521.0</td>\n",
              "      <td>6245.890861</td>\n",
              "    </tr>\n",
              "    <tr>\n",
              "      <th>4</th>\n",
              "      <td>Super built-up  Area</td>\n",
              "      <td>Ready To Move</td>\n",
              "      <td>2.0</td>\n",
              "      <td>1.0</td>\n",
              "      <td>51.00</td>\n",
              "      <td>Aundh Road</td>\n",
              "      <td>2</td>\n",
              "      <td>1200.0</td>\n",
              "      <td>4250.000000</td>\n",
              "    </tr>\n",
              "  </tbody>\n",
              "</table>\n",
              "</div>"
            ],
            "text/plain": [
              "              area_type   availability  ...  new_total_sqft  price_per_sqft\n",
              "0  Super built-up  Area      Not Ready  ...          1056.0     3699.810606\n",
              "1            Plot  Area  Ready To Move  ...          2600.0     4615.384615\n",
              "2        Built-up  Area  Ready To Move  ...          1440.0     4305.555556\n",
              "3  Super built-up  Area  Ready To Move  ...          1521.0     6245.890861\n",
              "4  Super built-up  Area  Ready To Move  ...          1200.0     4250.000000\n",
              "\n",
              "[5 rows x 9 columns]"
            ]
          },
          "metadata": {
            "tags": []
          },
          "execution_count": 46
        }
      ]
    },
    {
      "cell_type": "markdown",
      "metadata": {
        "id": "uv7i5i3Mbzjx",
        "colab_type": "text"
      },
      "source": [
        "## **Removing Outliers**"
      ]
    },
    {
      "cell_type": "code",
      "metadata": {
        "id": "TF5wOMFcb8X8",
        "colab_type": "code",
        "colab": {
          "base_uri": "https://localhost:8080/",
          "height": 34
        },
        "outputId": "7dd970d2-b2bb-4ee6-e3ce-8fa1a363cf24"
      },
      "source": [
        "# Removing the rows that have 1 Room for less than 300sqft\n",
        "\n",
        "df2 = df1[~(df1.new_total_sqft/df1.bhk<300)]\n",
        "print(len(df2), len(df1))"
      ],
      "execution_count": 47,
      "outputs": [
        {
          "output_type": "stream",
          "text": [
            "12513 13257\n"
          ],
          "name": "stdout"
        }
      ]
    },
    {
      "cell_type": "code",
      "metadata": {
        "id": "7ExTQFR_cNzW",
        "colab_type": "code",
        "colab": {
          "base_uri": "https://localhost:8080/",
          "height": 170
        },
        "outputId": "04cd7084-2214-485b-a4cc-ac16924eb9ef"
      },
      "source": [
        "df2.price_per_sqft.describe()"
      ],
      "execution_count": 48,
      "outputs": [
        {
          "output_type": "execute_result",
          "data": {
            "text/plain": [
              "count     12513.000000\n",
              "mean       6307.567166\n",
              "std        4160.879784\n",
              "min         267.829813\n",
              "25%        4211.469534\n",
              "50%        5295.138889\n",
              "75%        6916.666667\n",
              "max      176470.588235\n",
              "Name: price_per_sqft, dtype: float64"
            ]
          },
          "metadata": {
            "tags": []
          },
          "execution_count": 48
        }
      ]
    },
    {
      "cell_type": "code",
      "metadata": {
        "id": "7frL7naocT3P",
        "colab_type": "code",
        "colab": {
          "base_uri": "https://localhost:8080/",
          "height": 34
        },
        "outputId": "809ff8c4-b16f-4451-f222-640f05b36f3e"
      },
      "source": [
        "# Since there is a wide range for 'price_per_sqft' column with min = Rs.267/sqft till max = Rs. 127470/sqft, we remove the extreme ends using the SD\n",
        "def remove_pps_outliers(df):\n",
        "    \n",
        "    df_out = pd.DataFrame()\n",
        "    \n",
        "    for key, sub_df in df.groupby('site_location'):\n",
        "        m = np.mean(sub_df.price_per_sqft)\n",
        "        sd = np.std(sub_df.price_per_sqft)\n",
        "        reduce_df = sub_df[(sub_df.price_per_sqft>(m-sd)) & (sub_df.price_per_sqft<(m+sd))]\n",
        "        df_out = pd.concat([df_out, reduce_df], ignore_index=True)\n",
        "    \n",
        "    return df_out\n",
        "\n",
        "df3 = remove_pps_outliers(df2)\n",
        "print(len(df2), len(df3))"
      ],
      "execution_count": 49,
      "outputs": [
        {
          "output_type": "stream",
          "text": [
            "12513 10937\n"
          ],
          "name": "stdout"
        }
      ]
    },
    {
      "cell_type": "code",
      "metadata": {
        "id": "Zhtx2pWzdaSC",
        "colab_type": "code",
        "colab": {
          "base_uri": "https://localhost:8080/",
          "height": 170
        },
        "outputId": "abbb43bd-308b-4928-d3c4-a2c844e5c4db"
      },
      "source": [
        "df3.price_per_sqft.describe()"
      ],
      "execution_count": 50,
      "outputs": [
        {
          "output_type": "execute_result",
          "data": {
            "text/plain": [
              "count    10937.000000\n",
              "mean      5382.407727\n",
              "std       1606.041361\n",
              "min       1379.310345\n",
              "25%       4186.952288\n",
              "50%       5109.489051\n",
              "75%       6333.333333\n",
              "max      17548.524329\n",
              "Name: price_per_sqft, dtype: float64"
            ]
          },
          "metadata": {
            "tags": []
          },
          "execution_count": 50
        }
      ]
    },
    {
      "cell_type": "code",
      "metadata": {
        "id": "NyHcUhTYdrSg",
        "colab_type": "code",
        "colab": {
          "base_uri": "https://localhost:8080/",
          "height": 621
        },
        "outputId": "8b5157c9-4bb1-4c0a-9156-509a432508bf"
      },
      "source": [
        "def plot_scatter_chart(df, site_location):\n",
        "    bhk2 = df[(df.site_location == site_location) & (df.bhk == 2)]\n",
        "    bhk3 = df[(df.site_location == site_location) & (df.bhk == 3)]\n",
        "    rcP['figure.figsize'] = (15,10)\n",
        "    plt.scatter(bhk2.new_total_sqft, bhk2.price, color='blue', label='2 BHK', s=50)\n",
        "    plt.scatter(bhk3.new_total_sqft, bhk3.price, color='green', marker='+', label='3 BHK', s=50)\n",
        "    plt.xlabel('Total Square Feet Area')\n",
        "    plt.ylabel('Price (in Lakhs)')\n",
        "    plt.title(site_location)\n",
        "    plt.legend()\n",
        "    \n",
        "plot_scatter_chart(df3, 'Hadapsar')"
      ],
      "execution_count": 64,
      "outputs": [
        {
          "output_type": "display_data",
          "data": {
            "image/png": "[encoded data removed]",
            "text/plain": [
              "<Figure size 1080x720 with 1 Axes>"
            ]
          },
          "metadata": {
            "tags": [],
            "needs_background": "light"
          }
        }
      ]
    },
    {
      "cell_type": "code",
      "metadata": {
        "id": "X_xJnwabeSuc",
        "colab_type": "code",
        "colab": {
          "base_uri": "https://localhost:8080/",
          "height": 34
        },
        "outputId": "d905e56c-c924-44db-dfe4-295f0628934f"
      },
      "source": [
        "# Here we observe that 3 BHK cost that same as 2 BHK in 'Hadapsar' location hence removing such outliers is necessary\n",
        "def remove_bhk_outliers(df):\n",
        "    exclude_indices = np.array([])\n",
        "    \n",
        "    for site_location, site_location_df in df.groupby('site_location'):\n",
        "        bhk_stats = {}\n",
        "        \n",
        "        for bhk, bhk_df in site_location_df.groupby('bhk'):\n",
        "            bhk_stats[bhk] = {\n",
        "                'mean': np.mean(bhk_df.price_per_sqft),\n",
        "                'std': np.std(bhk_df.price_per_sqft),\n",
        "                'count': bhk_df.shape[0]\n",
        "            }\n",
        "        \n",
        "        for bhk, bhk_df in site_location_df.groupby('bhk'):\n",
        "            stats = bhk_stats.get(bhk-1)\n",
        "            if stats and stats['count']>5:\n",
        "                exclude_indices = np.append(exclude_indices, bhk_df[bhk_df.price_per_sqft<(stats['mean'])].index.values)\n",
        "    \n",
        "    return df.drop(exclude_indices, axis='index')\n",
        "\n",
        "df4 = remove_bhk_outliers(df3)\n",
        "print(len(df3), len(df4))"
      ],
      "execution_count": 59,
      "outputs": [
        {
          "output_type": "stream",
          "text": [
            "10937 7459\n"
          ],
          "name": "stdout"
        }
      ]
    },
    {
      "cell_type": "code",
      "metadata": {
        "id": "btWP7qTdeaaC",
        "colab_type": "code",
        "colab": {
          "base_uri": "https://localhost:8080/",
          "height": 621
        },
        "outputId": "0748bbfc-7688-4088-939a-9f46367b8c42"
      },
      "source": [
        "plot_scatter_chart(df4, 'Hadapsar')"
      ],
      "execution_count": 65,
      "outputs": [
        {
          "output_type": "display_data",
          "data": {
            "image/png": "[encoded data removed]",
            "text/plain": [
              "<Figure size 1080x720 with 1 Axes>"
            ]
          },
          "metadata": {
            "tags": [],
            "needs_background": "light"
          }
        }
      ]
    },
    {
      "cell_type": "code",
      "metadata": {
        "id": "bB421_-Sfu6X",
        "colab_type": "code",
        "colab": {
          "base_uri": "https://localhost:8080/",
          "height": 623
        },
        "outputId": "85298c98-cef8-4f61-c9d4-ce81efbf5c80"
      },
      "source": [
        "plt.hist(df4.price_per_sqft, rwidth=0.5)\n",
        "plt.xlabel('Price Per Square Feet')\n",
        "plt.ylabel('Count')"
      ],
      "execution_count": 66,
      "outputs": [
        {
          "output_type": "execute_result",
          "data": {
            "text/plain": [
              "Text(0, 0.5, 'Count')"
            ]
          },
          "metadata": {
            "tags": []
          },
          "execution_count": 66
        },
        {
          "output_type": "display_data",
          "data": {
            "image/png": "[encoded data removed]",
            "text/plain": [
              "<Figure size 1080x720 with 1 Axes>"
            ]
          },
          "metadata": {
            "tags": [],
            "needs_background": "light"
          }
        }
      ]
    },
    {
      "cell_type": "code",
      "metadata": {
        "id": "jqjcI9i3iQYj",
        "colab_type": "code",
        "colab": {
          "base_uri": "https://localhost:8080/",
          "height": 625
        },
        "outputId": "6d8a4195-f5d9-4301-b19d-0ec4dd1b4a0a"
      },
      "source": [
        "plt.hist(df4.bath, rwidth=0.5)\n",
        "plt.xlabel('Number of Bathrooms')\n",
        "plt.ylabel('Count')"
      ],
      "execution_count": 67,
      "outputs": [
        {
          "output_type": "execute_result",
          "data": {
            "text/plain": [
              "Text(0, 0.5, 'Count')"
            ]
          },
          "metadata": {
            "tags": []
          },
          "execution_count": 67
        },
        {
          "output_type": "display_data",
          "data": {
            "image/png": "[encoded data removed]",
            "text/plain": [
              "<Figure size 1080x720 with 1 Axes>"
            ]
          },
          "metadata": {
            "tags": [],
            "needs_background": "light"
          }
        }
      ]
    },
    {
      "cell_type": "code",
      "metadata": {
        "id": "CDk1OBvFk4CJ",
        "colab_type": "code",
        "colab": {
          "base_uri": "https://localhost:8080/",
          "height": 34
        },
        "outputId": "9874c713-35fa-4bb6-c2d0-791d9b674e4b"
      },
      "source": [
        "# Removing the rows that have 'bath' greater than 'bhk'+2\n",
        "df5 = df4[df4.bath<(df4.bhk+2)]\n",
        "print(len(df4), len(df5))"
      ],
      "execution_count": 68,
      "outputs": [
        {
          "output_type": "stream",
          "text": [
            "7459 7395\n"
          ],
          "name": "stdout"
        }
      ]
    },
    {
      "cell_type": "code",
      "metadata": {
        "id": "K1V6h0H5ln7Z",
        "colab_type": "code",
        "colab": {
          "base_uri": "https://localhost:8080/",
          "height": 204
        },
        "outputId": "122dab38-2dd3-411c-bdf7-90c68fa16858"
      },
      "source": [
        "df5.tail()"
      ],
      "execution_count": 69,
      "outputs": [
        {
          "output_type": "execute_result",
          "data": {
            "text/html": [
              "<div>\n",
              "<style scoped>\n",
              "    .dataframe tbody tr th:only-of-type {\n",
              "        vertical-align: middle;\n",
              "    }\n",
              "\n",
              "    .dataframe tbody tr th {\n",
              "        vertical-align: top;\n",
              "    }\n",
              "\n",
              "    .dataframe thead th {\n",
              "        text-align: right;\n",
              "    }\n",
              "</style>\n",
              "<table border=\"1\" class=\"dataframe\">\n",
              "  <thead>\n",
              "    <tr style=\"text-align: right;\">\n",
              "      <th></th>\n",
              "      <th>area_type</th>\n",
              "      <th>availability</th>\n",
              "      <th>bath</th>\n",
              "      <th>balcony</th>\n",
              "      <th>price</th>\n",
              "      <th>site_location</th>\n",
              "      <th>bhk</th>\n",
              "      <th>new_total_sqft</th>\n",
              "      <th>price_per_sqft</th>\n",
              "    </tr>\n",
              "  </thead>\n",
              "  <tbody>\n",
              "    <tr>\n",
              "      <th>10923</th>\n",
              "      <td>Super built-up  Area</td>\n",
              "      <td>Not Ready</td>\n",
              "      <td>2.0</td>\n",
              "      <td>1.0</td>\n",
              "      <td>67.0</td>\n",
              "      <td>Yerawada</td>\n",
              "      <td>2</td>\n",
              "      <td>1165.0</td>\n",
              "      <td>5751.072961</td>\n",
              "    </tr>\n",
              "    <tr>\n",
              "      <th>10928</th>\n",
              "      <td>Built-up  Area</td>\n",
              "      <td>Ready To Move</td>\n",
              "      <td>6.0</td>\n",
              "      <td>2.0</td>\n",
              "      <td>115.0</td>\n",
              "      <td>Yerawada</td>\n",
              "      <td>6</td>\n",
              "      <td>3500.0</td>\n",
              "      <td>3285.714286</td>\n",
              "    </tr>\n",
              "    <tr>\n",
              "      <th>10931</th>\n",
              "      <td>Built-up  Area</td>\n",
              "      <td>Not Ready</td>\n",
              "      <td>2.0</td>\n",
              "      <td>2.0</td>\n",
              "      <td>353.0</td>\n",
              "      <td>Yerawada</td>\n",
              "      <td>5</td>\n",
              "      <td>3210.0</td>\n",
              "      <td>10996.884735</td>\n",
              "    </tr>\n",
              "    <tr>\n",
              "      <th>10932</th>\n",
              "      <td>Super built-up  Area</td>\n",
              "      <td>Ready To Move</td>\n",
              "      <td>2.0</td>\n",
              "      <td>2.0</td>\n",
              "      <td>54.0</td>\n",
              "      <td>Yerawada</td>\n",
              "      <td>2</td>\n",
              "      <td>1050.0</td>\n",
              "      <td>5142.857143</td>\n",
              "    </tr>\n",
              "    <tr>\n",
              "      <th>10936</th>\n",
              "      <td>Super built-up  Area</td>\n",
              "      <td>Not Ready</td>\n",
              "      <td>2.0</td>\n",
              "      <td>1.0</td>\n",
              "      <td>70.0</td>\n",
              "      <td>Yerawada</td>\n",
              "      <td>2</td>\n",
              "      <td>1132.0</td>\n",
              "      <td>6183.745583</td>\n",
              "    </tr>\n",
              "  </tbody>\n",
              "</table>\n",
              "</div>"
            ],
            "text/plain": [
              "                  area_type   availability  ...  new_total_sqft  price_per_sqft\n",
              "10923  Super built-up  Area      Not Ready  ...          1165.0     5751.072961\n",
              "10928        Built-up  Area  Ready To Move  ...          3500.0     3285.714286\n",
              "10931        Built-up  Area      Not Ready  ...          3210.0    10996.884735\n",
              "10932  Super built-up  Area  Ready To Move  ...          1050.0     5142.857143\n",
              "10936  Super built-up  Area      Not Ready  ...          1132.0     6183.745583\n",
              "\n",
              "[5 rows x 9 columns]"
            ]
          },
          "metadata": {
            "tags": []
          },
          "execution_count": 69
        }
      ]
    },
    {
      "cell_type": "code",
      "metadata": {
        "id": "eDLPfmtXmPFd",
        "colab_type": "code",
        "colab": {}
      },
      "source": [
        "# Removing the unnecessary columns (columns that were added only for removing the outliers)\n",
        "df6 = df5.copy()\n",
        "df6 = df6.drop('price_per_sqft', axis='columns')"
      ],
      "execution_count": 70,
      "outputs": []
    },
    {
      "cell_type": "markdown",
      "metadata": {
        "id": "rh_G5aEel-R-",
        "colab_type": "text"
      },
      "source": [
        "### **Model Bulding**"
      ]
    },
    {
      "cell_type": "code",
      "metadata": {
        "id": "HJLaY7POmB5g",
        "colab_type": "code",
        "colab": {
          "base_uri": "https://localhost:8080/",
          "height": 204
        },
        "outputId": "593b9346-38e6-4379-a9ad-e81394942ee4"
      },
      "source": [
        "df6.head()"
      ],
      "execution_count": 71,
      "outputs": [
        {
          "output_type": "execute_result",
          "data": {
            "text/html": [
              "<div>\n",
              "<style scoped>\n",
              "    .dataframe tbody tr th:only-of-type {\n",
              "        vertical-align: middle;\n",
              "    }\n",
              "\n",
              "    .dataframe tbody tr th {\n",
              "        vertical-align: top;\n",
              "    }\n",
              "\n",
              "    .dataframe thead th {\n",
              "        text-align: right;\n",
              "    }\n",
              "</style>\n",
              "<table border=\"1\" class=\"dataframe\">\n",
              "  <thead>\n",
              "    <tr style=\"text-align: right;\">\n",
              "      <th></th>\n",
              "      <th>area_type</th>\n",
              "      <th>availability</th>\n",
              "      <th>bath</th>\n",
              "      <th>balcony</th>\n",
              "      <th>price</th>\n",
              "      <th>site_location</th>\n",
              "      <th>bhk</th>\n",
              "      <th>new_total_sqft</th>\n",
              "    </tr>\n",
              "  </thead>\n",
              "  <tbody>\n",
              "    <tr>\n",
              "      <th>0</th>\n",
              "      <td>Super built-up  Area</td>\n",
              "      <td>Not Ready</td>\n",
              "      <td>2.0</td>\n",
              "      <td>1.0</td>\n",
              "      <td>39.07</td>\n",
              "      <td>Alandi Road</td>\n",
              "      <td>2</td>\n",
              "      <td>1056.0</td>\n",
              "    </tr>\n",
              "    <tr>\n",
              "      <th>1</th>\n",
              "      <td>Plot  Area</td>\n",
              "      <td>Ready To Move</td>\n",
              "      <td>4.0</td>\n",
              "      <td>1.0</td>\n",
              "      <td>245.00</td>\n",
              "      <td>Alandi Road</td>\n",
              "      <td>4</td>\n",
              "      <td>2894.0</td>\n",
              "    </tr>\n",
              "    <tr>\n",
              "      <th>2</th>\n",
              "      <td>Super built-up  Area</td>\n",
              "      <td>Ready To Move</td>\n",
              "      <td>2.0</td>\n",
              "      <td>2.0</td>\n",
              "      <td>50.00</td>\n",
              "      <td>Alandi Road</td>\n",
              "      <td>2</td>\n",
              "      <td>1084.0</td>\n",
              "    </tr>\n",
              "    <tr>\n",
              "      <th>3</th>\n",
              "      <td>Super built-up  Area</td>\n",
              "      <td>Ready To Move</td>\n",
              "      <td>2.0</td>\n",
              "      <td>2.0</td>\n",
              "      <td>80.00</td>\n",
              "      <td>Alandi Road</td>\n",
              "      <td>2</td>\n",
              "      <td>1230.0</td>\n",
              "    </tr>\n",
              "    <tr>\n",
              "      <th>4</th>\n",
              "      <td>Super built-up  Area</td>\n",
              "      <td>Ready To Move</td>\n",
              "      <td>3.0</td>\n",
              "      <td>2.0</td>\n",
              "      <td>130.00</td>\n",
              "      <td>Alandi Road</td>\n",
              "      <td>3</td>\n",
              "      <td>1750.0</td>\n",
              "    </tr>\n",
              "  </tbody>\n",
              "</table>\n",
              "</div>"
            ],
            "text/plain": [
              "              area_type   availability  bath  ...  site_location  bhk new_total_sqft\n",
              "0  Super built-up  Area      Not Ready   2.0  ...    Alandi Road    2         1056.0\n",
              "1            Plot  Area  Ready To Move   4.0  ...    Alandi Road    4         2894.0\n",
              "2  Super built-up  Area  Ready To Move   2.0  ...    Alandi Road    2         1084.0\n",
              "3  Super built-up  Area  Ready To Move   2.0  ...    Alandi Road    2         1230.0\n",
              "4  Super built-up  Area  Ready To Move   3.0  ...    Alandi Road    3         1750.0\n",
              "\n",
              "[5 rows x 8 columns]"
            ]
          },
          "metadata": {
            "tags": []
          },
          "execution_count": 71
        }
      ]
    },
    {
      "cell_type": "code",
      "metadata": {
        "id": "FphJ9G8ZmfXn",
        "colab_type": "code",
        "colab": {}
      },
      "source": [
        "# Converting the categorical_value into numerical_values using get_dummies method\n",
        "dummy_cols = pd.get_dummies(df6.site_location)\n",
        "df6 = pd.concat([df6,dummy_cols], axis='columns')\n",
        "\n",
        "# Converting the categorical_value into numerical_values using get_dummies method\n",
        "dummy_cols = pd.get_dummies(df6.availability).drop('Not Ready', axis='columns')\n",
        "df6 = pd.concat([df6,dummy_cols], axis='columns')\n",
        "\n",
        "# Converting the categorical_value into numerical_values using get_dummies method\n",
        "dummy_cols = pd.get_dummies(df6.area_type).drop('Super built-up  Area', axis='columns')\n",
        "df6 = pd.concat([df6,dummy_cols], axis='columns')"
      ],
      "execution_count": 72,
      "outputs": []
    },
    {
      "cell_type": "code",
      "metadata": {
        "id": "MwJST3-dn0u8",
        "colab_type": "code",
        "colab": {
          "base_uri": "https://localhost:8080/",
          "height": 442
        },
        "outputId": "dac9f21f-b32e-4e79-f2a8-ce700a121a80"
      },
      "source": [
        "df6.drop(['area_type','availability','site_location'], axis='columns', inplace=True)\n",
        "df6.head(10)"
      ],
      "execution_count": 73,
      "outputs": [
        {
          "output_type": "execute_result",
          "data": {
            "text/html": [
              "<div>\n",
              "<style scoped>\n",
              "    .dataframe tbody tr th:only-of-type {\n",
              "        vertical-align: middle;\n",
              "    }\n",
              "\n",
              "    .dataframe tbody tr th {\n",
              "        vertical-align: top;\n",
              "    }\n",
              "\n",
              "    .dataframe thead th {\n",
              "        text-align: right;\n",
              "    }\n",
              "</style>\n",
              "<table border=\"1\" class=\"dataframe\">\n",
              "  <thead>\n",
              "    <tr style=\"text-align: right;\">\n",
              "      <th></th>\n",
              "      <th>bath</th>\n",
              "      <th>balcony</th>\n",
              "      <th>price</th>\n",
              "      <th>bhk</th>\n",
              "      <th>new_total_sqft</th>\n",
              "      <th>Alandi Road</th>\n",
              "      <th>Ambegaon Budruk</th>\n",
              "      <th>Anandnagar</th>\n",
              "      <th>Aundh</th>\n",
              "      <th>Aundh Road</th>\n",
              "      <th>Balaji Nagar</th>\n",
              "      <th>Baner</th>\n",
              "      <th>Baner road</th>\n",
              "      <th>Bhandarkar Road</th>\n",
              "      <th>Bhavani Peth</th>\n",
              "      <th>Bibvewadi</th>\n",
              "      <th>Bopodi</th>\n",
              "      <th>Budhwar Peth</th>\n",
              "      <th>Bund Garden Road</th>\n",
              "      <th>Camp</th>\n",
              "      <th>Chandan Nagar</th>\n",
              "      <th>Dapodi</th>\n",
              "      <th>Deccan Gymkhana</th>\n",
              "      <th>Dehu Road</th>\n",
              "      <th>Dhankawadi</th>\n",
              "      <th>Dhayari Phata</th>\n",
              "      <th>Dhole Patil Road</th>\n",
              "      <th>Erandwane</th>\n",
              "      <th>Fatima Nagar</th>\n",
              "      <th>Fergusson College Road</th>\n",
              "      <th>Ganesh Peth</th>\n",
              "      <th>Ganeshkhind</th>\n",
              "      <th>Ghorpade Peth</th>\n",
              "      <th>Ghorpadi</th>\n",
              "      <th>Gokhale Nagar</th>\n",
              "      <th>Gultekdi</th>\n",
              "      <th>Guruwar peth</th>\n",
              "      <th>Hadapsar</th>\n",
              "      <th>Hadapsar Industrial Estate</th>\n",
              "      <th>Hingne Khurd</th>\n",
              "      <th>...</th>\n",
              "      <th>Nana Peth</th>\n",
              "      <th>Narayan Peth</th>\n",
              "      <th>Narayangaon</th>\n",
              "      <th>Navi Peth</th>\n",
              "      <th>Padmavati</th>\n",
              "      <th>Parvati Darshan</th>\n",
              "      <th>Pashan</th>\n",
              "      <th>Paud Road</th>\n",
              "      <th>Pirangut</th>\n",
              "      <th>Prabhat Road</th>\n",
              "      <th>Pune Railway Station</th>\n",
              "      <th>Rasta Peth</th>\n",
              "      <th>Raviwar Peth</th>\n",
              "      <th>Sadashiv Peth</th>\n",
              "      <th>Sahakar Nagar</th>\n",
              "      <th>Salunke Vihar</th>\n",
              "      <th>Sasson Road</th>\n",
              "      <th>Satara Road</th>\n",
              "      <th>Senapati Bapat Road</th>\n",
              "      <th>Shaniwar Peth</th>\n",
              "      <th>Shivaji Nagar</th>\n",
              "      <th>Shukrawar Peth</th>\n",
              "      <th>Sinhagad Road</th>\n",
              "      <th>Somwar Peth</th>\n",
              "      <th>Swargate</th>\n",
              "      <th>Tilak Road</th>\n",
              "      <th>Uruli Devachi</th>\n",
              "      <th>Vadgaon Budruk</th>\n",
              "      <th>Viman Nagar</th>\n",
              "      <th>Vishrant Wadi</th>\n",
              "      <th>Wadgaon Sheri</th>\n",
              "      <th>Wagholi</th>\n",
              "      <th>Wakadewadi</th>\n",
              "      <th>Wanowrie</th>\n",
              "      <th>Warje</th>\n",
              "      <th>Yerawada</th>\n",
              "      <th>Ready To Move</th>\n",
              "      <th>Built-up  Area</th>\n",
              "      <th>Carpet  Area</th>\n",
              "      <th>Plot  Area</th>\n",
              "    </tr>\n",
              "  </thead>\n",
              "  <tbody>\n",
              "    <tr>\n",
              "      <th>0</th>\n",
              "      <td>2.0</td>\n",
              "      <td>1.0</td>\n",
              "      <td>39.07</td>\n",
              "      <td>2</td>\n",
              "      <td>1056.0</td>\n",
              "      <td>1</td>\n",
              "      <td>0</td>\n",
              "      <td>0</td>\n",
              "      <td>0</td>\n",
              "      <td>0</td>\n",
              "      <td>0</td>\n",
              "      <td>0</td>\n",
              "      <td>0</td>\n",
              "      <td>0</td>\n",
              "      <td>0</td>\n",
              "      <td>0</td>\n",
              "      <td>0</td>\n",
              "      <td>0</td>\n",
              "      <td>0</td>\n",
              "      <td>0</td>\n",
              "      <td>0</td>\n",
              "      <td>0</td>\n",
              "      <td>0</td>\n",
              "      <td>0</td>\n",
              "      <td>0</td>\n",
              "      <td>0</td>\n",
              "      <td>0</td>\n",
              "      <td>0</td>\n",
              "      <td>0</td>\n",
              "      <td>0</td>\n",
              "      <td>0</td>\n",
              "      <td>0</td>\n",
              "      <td>0</td>\n",
              "      <td>0</td>\n",
              "      <td>0</td>\n",
              "      <td>0</td>\n",
              "      <td>0</td>\n",
              "      <td>0</td>\n",
              "      <td>0</td>\n",
              "      <td>0</td>\n",
              "      <td>...</td>\n",
              "      <td>0</td>\n",
              "      <td>0</td>\n",
              "      <td>0</td>\n",
              "      <td>0</td>\n",
              "      <td>0</td>\n",
              "      <td>0</td>\n",
              "      <td>0</td>\n",
              "      <td>0</td>\n",
              "      <td>0</td>\n",
              "      <td>0</td>\n",
              "      <td>0</td>\n",
              "      <td>0</td>\n",
              "      <td>0</td>\n",
              "      <td>0</td>\n",
              "      <td>0</td>\n",
              "      <td>0</td>\n",
              "      <td>0</td>\n",
              "      <td>0</td>\n",
              "      <td>0</td>\n",
              "      <td>0</td>\n",
              "      <td>0</td>\n",
              "      <td>0</td>\n",
              "      <td>0</td>\n",
              "      <td>0</td>\n",
              "      <td>0</td>\n",
              "      <td>0</td>\n",
              "      <td>0</td>\n",
              "      <td>0</td>\n",
              "      <td>0</td>\n",
              "      <td>0</td>\n",
              "      <td>0</td>\n",
              "      <td>0</td>\n",
              "      <td>0</td>\n",
              "      <td>0</td>\n",
              "      <td>0</td>\n",
              "      <td>0</td>\n",
              "      <td>0</td>\n",
              "      <td>0</td>\n",
              "      <td>0</td>\n",
              "      <td>0</td>\n",
              "    </tr>\n",
              "    <tr>\n",
              "      <th>1</th>\n",
              "      <td>4.0</td>\n",
              "      <td>1.0</td>\n",
              "      <td>245.00</td>\n",
              "      <td>4</td>\n",
              "      <td>2894.0</td>\n",
              "      <td>1</td>\n",
              "      <td>0</td>\n",
              "      <td>0</td>\n",
              "      <td>0</td>\n",
              "      <td>0</td>\n",
              "      <td>0</td>\n",
              "      <td>0</td>\n",
              "      <td>0</td>\n",
              "      <td>0</td>\n",
              "      <td>0</td>\n",
              "      <td>0</td>\n",
              "      <td>0</td>\n",
              "      <td>0</td>\n",
              "      <td>0</td>\n",
              "      <td>0</td>\n",
              "      <td>0</td>\n",
              "      <td>0</td>\n",
              "      <td>0</td>\n",
              "      <td>0</td>\n",
              "      <td>0</td>\n",
              "      <td>0</td>\n",
              "      <td>0</td>\n",
              "      <td>0</td>\n",
              "      <td>0</td>\n",
              "      <td>0</td>\n",
              "      <td>0</td>\n",
              "      <td>0</td>\n",
              "      <td>0</td>\n",
              "      <td>0</td>\n",
              "      <td>0</td>\n",
              "      <td>0</td>\n",
              "      <td>0</td>\n",
              "      <td>0</td>\n",
              "      <td>0</td>\n",
              "      <td>0</td>\n",
              "      <td>...</td>\n",
              "      <td>0</td>\n",
              "      <td>0</td>\n",
              "      <td>0</td>\n",
              "      <td>0</td>\n",
              "      <td>0</td>\n",
              "      <td>0</td>\n",
              "      <td>0</td>\n",
              "      <td>0</td>\n",
              "      <td>0</td>\n",
              "      <td>0</td>\n",
              "      <td>0</td>\n",
              "      <td>0</td>\n",
              "      <td>0</td>\n",
              "      <td>0</td>\n",
              "      <td>0</td>\n",
              "      <td>0</td>\n",
              "      <td>0</td>\n",
              "      <td>0</td>\n",
              "      <td>0</td>\n",
              "      <td>0</td>\n",
              "      <td>0</td>\n",
              "      <td>0</td>\n",
              "      <td>0</td>\n",
              "      <td>0</td>\n",
              "      <td>0</td>\n",
              "      <td>0</td>\n",
              "      <td>0</td>\n",
              "      <td>0</td>\n",
              "      <td>0</td>\n",
              "      <td>0</td>\n",
              "      <td>0</td>\n",
              "      <td>0</td>\n",
              "      <td>0</td>\n",
              "      <td>0</td>\n",
              "      <td>0</td>\n",
              "      <td>0</td>\n",
              "      <td>1</td>\n",
              "      <td>0</td>\n",
              "      <td>0</td>\n",
              "      <td>1</td>\n",
              "    </tr>\n",
              "    <tr>\n",
              "      <th>2</th>\n",
              "      <td>2.0</td>\n",
              "      <td>2.0</td>\n",
              "      <td>50.00</td>\n",
              "      <td>2</td>\n",
              "      <td>1084.0</td>\n",
              "      <td>1</td>\n",
              "      <td>0</td>\n",
              "      <td>0</td>\n",
              "      <td>0</td>\n",
              "      <td>0</td>\n",
              "      <td>0</td>\n",
              "      <td>0</td>\n",
              "      <td>0</td>\n",
              "      <td>0</td>\n",
              "      <td>0</td>\n",
              "      <td>0</td>\n",
              "      <td>0</td>\n",
              "      <td>0</td>\n",
              "      <td>0</td>\n",
              "      <td>0</td>\n",
              "      <td>0</td>\n",
              "      <td>0</td>\n",
              "      <td>0</td>\n",
              "      <td>0</td>\n",
              "      <td>0</td>\n",
              "      <td>0</td>\n",
              "      <td>0</td>\n",
              "      <td>0</td>\n",
              "      <td>0</td>\n",
              "      <td>0</td>\n",
              "      <td>0</td>\n",
              "      <td>0</td>\n",
              "      <td>0</td>\n",
              "      <td>0</td>\n",
              "      <td>0</td>\n",
              "      <td>0</td>\n",
              "      <td>0</td>\n",
              "      <td>0</td>\n",
              "      <td>0</td>\n",
              "      <td>0</td>\n",
              "      <td>...</td>\n",
              "      <td>0</td>\n",
              "      <td>0</td>\n",
              "      <td>0</td>\n",
              "      <td>0</td>\n",
              "      <td>0</td>\n",
              "      <td>0</td>\n",
              "      <td>0</td>\n",
              "      <td>0</td>\n",
              "      <td>0</td>\n",
              "      <td>0</td>\n",
              "      <td>0</td>\n",
              "      <td>0</td>\n",
              "      <td>0</td>\n",
              "      <td>0</td>\n",
              "      <td>0</td>\n",
              "      <td>0</td>\n",
              "      <td>0</td>\n",
              "      <td>0</td>\n",
              "      <td>0</td>\n",
              "      <td>0</td>\n",
              "      <td>0</td>\n",
              "      <td>0</td>\n",
              "      <td>0</td>\n",
              "      <td>0</td>\n",
              "      <td>0</td>\n",
              "      <td>0</td>\n",
              "      <td>0</td>\n",
              "      <td>0</td>\n",
              "      <td>0</td>\n",
              "      <td>0</td>\n",
              "      <td>0</td>\n",
              "      <td>0</td>\n",
              "      <td>0</td>\n",
              "      <td>0</td>\n",
              "      <td>0</td>\n",
              "      <td>0</td>\n",
              "      <td>1</td>\n",
              "      <td>0</td>\n",
              "      <td>0</td>\n",
              "      <td>0</td>\n",
              "    </tr>\n",
              "    <tr>\n",
              "      <th>3</th>\n",
              "      <td>2.0</td>\n",
              "      <td>2.0</td>\n",
              "      <td>80.00</td>\n",
              "      <td>2</td>\n",
              "      <td>1230.0</td>\n",
              "      <td>1</td>\n",
              "      <td>0</td>\n",
              "      <td>0</td>\n",
              "      <td>0</td>\n",
              "      <td>0</td>\n",
              "      <td>0</td>\n",
              "      <td>0</td>\n",
              "      <td>0</td>\n",
              "      <td>0</td>\n",
              "      <td>0</td>\n",
              "      <td>0</td>\n",
              "      <td>0</td>\n",
              "      <td>0</td>\n",
              "      <td>0</td>\n",
              "      <td>0</td>\n",
              "      <td>0</td>\n",
              "      <td>0</td>\n",
              "      <td>0</td>\n",
              "      <td>0</td>\n",
              "      <td>0</td>\n",
              "      <td>0</td>\n",
              "      <td>0</td>\n",
              "      <td>0</td>\n",
              "      <td>0</td>\n",
              "      <td>0</td>\n",
              "      <td>0</td>\n",
              "      <td>0</td>\n",
              "      <td>0</td>\n",
              "      <td>0</td>\n",
              "      <td>0</td>\n",
              "      <td>0</td>\n",
              "      <td>0</td>\n",
              "      <td>0</td>\n",
              "      <td>0</td>\n",
              "      <td>0</td>\n",
              "      <td>...</td>\n",
              "      <td>0</td>\n",
              "      <td>0</td>\n",
              "      <td>0</td>\n",
              "      <td>0</td>\n",
              "      <td>0</td>\n",
              "      <td>0</td>\n",
              "      <td>0</td>\n",
              "      <td>0</td>\n",
              "      <td>0</td>\n",
              "      <td>0</td>\n",
              "      <td>0</td>\n",
              "      <td>0</td>\n",
              "      <td>0</td>\n",
              "      <td>0</td>\n",
              "      <td>0</td>\n",
              "      <td>0</td>\n",
              "      <td>0</td>\n",
              "      <td>0</td>\n",
              "      <td>0</td>\n",
              "      <td>0</td>\n",
              "      <td>0</td>\n",
              "      <td>0</td>\n",
              "      <td>0</td>\n",
              "      <td>0</td>\n",
              "      <td>0</td>\n",
              "      <td>0</td>\n",
              "      <td>0</td>\n",
              "      <td>0</td>\n",
              "      <td>0</td>\n",
              "      <td>0</td>\n",
              "      <td>0</td>\n",
              "      <td>0</td>\n",
              "      <td>0</td>\n",
              "      <td>0</td>\n",
              "      <td>0</td>\n",
              "      <td>0</td>\n",
              "      <td>1</td>\n",
              "      <td>0</td>\n",
              "      <td>0</td>\n",
              "      <td>0</td>\n",
              "    </tr>\n",
              "    <tr>\n",
              "      <th>4</th>\n",
              "      <td>3.0</td>\n",
              "      <td>2.0</td>\n",
              "      <td>130.00</td>\n",
              "      <td>3</td>\n",
              "      <td>1750.0</td>\n",
              "      <td>1</td>\n",
              "      <td>0</td>\n",
              "      <td>0</td>\n",
              "      <td>0</td>\n",
              "      <td>0</td>\n",
              "      <td>0</td>\n",
              "      <td>0</td>\n",
              "      <td>0</td>\n",
              "      <td>0</td>\n",
              "      <td>0</td>\n",
              "      <td>0</td>\n",
              "      <td>0</td>\n",
              "      <td>0</td>\n",
              "      <td>0</td>\n",
              "      <td>0</td>\n",
              "      <td>0</td>\n",
              "      <td>0</td>\n",
              "      <td>0</td>\n",
              "      <td>0</td>\n",
              "      <td>0</td>\n",
              "      <td>0</td>\n",
              "      <td>0</td>\n",
              "      <td>0</td>\n",
              "      <td>0</td>\n",
              "      <td>0</td>\n",
              "      <td>0</td>\n",
              "      <td>0</td>\n",
              "      <td>0</td>\n",
              "      <td>0</td>\n",
              "      <td>0</td>\n",
              "      <td>0</td>\n",
              "      <td>0</td>\n",
              "      <td>0</td>\n",
              "      <td>0</td>\n",
              "      <td>0</td>\n",
              "      <td>...</td>\n",
              "      <td>0</td>\n",
              "      <td>0</td>\n",
              "      <td>0</td>\n",
              "      <td>0</td>\n",
              "      <td>0</td>\n",
              "      <td>0</td>\n",
              "      <td>0</td>\n",
              "      <td>0</td>\n",
              "      <td>0</td>\n",
              "      <td>0</td>\n",
              "      <td>0</td>\n",
              "      <td>0</td>\n",
              "      <td>0</td>\n",
              "      <td>0</td>\n",
              "      <td>0</td>\n",
              "      <td>0</td>\n",
              "      <td>0</td>\n",
              "      <td>0</td>\n",
              "      <td>0</td>\n",
              "      <td>0</td>\n",
              "      <td>0</td>\n",
              "      <td>0</td>\n",
              "      <td>0</td>\n",
              "      <td>0</td>\n",
              "      <td>0</td>\n",
              "      <td>0</td>\n",
              "      <td>0</td>\n",
              "      <td>0</td>\n",
              "      <td>0</td>\n",
              "      <td>0</td>\n",
              "      <td>0</td>\n",
              "      <td>0</td>\n",
              "      <td>0</td>\n",
              "      <td>0</td>\n",
              "      <td>0</td>\n",
              "      <td>0</td>\n",
              "      <td>1</td>\n",
              "      <td>0</td>\n",
              "      <td>0</td>\n",
              "      <td>0</td>\n",
              "    </tr>\n",
              "    <tr>\n",
              "      <th>5</th>\n",
              "      <td>2.0</td>\n",
              "      <td>1.0</td>\n",
              "      <td>41.00</td>\n",
              "      <td>2</td>\n",
              "      <td>995.0</td>\n",
              "      <td>1</td>\n",
              "      <td>0</td>\n",
              "      <td>0</td>\n",
              "      <td>0</td>\n",
              "      <td>0</td>\n",
              "      <td>0</td>\n",
              "      <td>0</td>\n",
              "      <td>0</td>\n",
              "      <td>0</td>\n",
              "      <td>0</td>\n",
              "      <td>0</td>\n",
              "      <td>0</td>\n",
              "      <td>0</td>\n",
              "      <td>0</td>\n",
              "      <td>0</td>\n",
              "      <td>0</td>\n",
              "      <td>0</td>\n",
              "      <td>0</td>\n",
              "      <td>0</td>\n",
              "      <td>0</td>\n",
              "      <td>0</td>\n",
              "      <td>0</td>\n",
              "      <td>0</td>\n",
              "      <td>0</td>\n",
              "      <td>0</td>\n",
              "      <td>0</td>\n",
              "      <td>0</td>\n",
              "      <td>0</td>\n",
              "      <td>0</td>\n",
              "      <td>0</td>\n",
              "      <td>0</td>\n",
              "      <td>0</td>\n",
              "      <td>0</td>\n",
              "      <td>0</td>\n",
              "      <td>0</td>\n",
              "      <td>...</td>\n",
              "      <td>0</td>\n",
              "      <td>0</td>\n",
              "      <td>0</td>\n",
              "      <td>0</td>\n",
              "      <td>0</td>\n",
              "      <td>0</td>\n",
              "      <td>0</td>\n",
              "      <td>0</td>\n",
              "      <td>0</td>\n",
              "      <td>0</td>\n",
              "      <td>0</td>\n",
              "      <td>0</td>\n",
              "      <td>0</td>\n",
              "      <td>0</td>\n",
              "      <td>0</td>\n",
              "      <td>0</td>\n",
              "      <td>0</td>\n",
              "      <td>0</td>\n",
              "      <td>0</td>\n",
              "      <td>0</td>\n",
              "      <td>0</td>\n",
              "      <td>0</td>\n",
              "      <td>0</td>\n",
              "      <td>0</td>\n",
              "      <td>0</td>\n",
              "      <td>0</td>\n",
              "      <td>0</td>\n",
              "      <td>0</td>\n",
              "      <td>0</td>\n",
              "      <td>0</td>\n",
              "      <td>0</td>\n",
              "      <td>0</td>\n",
              "      <td>0</td>\n",
              "      <td>0</td>\n",
              "      <td>0</td>\n",
              "      <td>0</td>\n",
              "      <td>1</td>\n",
              "      <td>1</td>\n",
              "      <td>0</td>\n",
              "      <td>0</td>\n",
              "    </tr>\n",
              "    <tr>\n",
              "      <th>8</th>\n",
              "      <td>2.0</td>\n",
              "      <td>1.0</td>\n",
              "      <td>95.00</td>\n",
              "      <td>2</td>\n",
              "      <td>1360.0</td>\n",
              "      <td>1</td>\n",
              "      <td>0</td>\n",
              "      <td>0</td>\n",
              "      <td>0</td>\n",
              "      <td>0</td>\n",
              "      <td>0</td>\n",
              "      <td>0</td>\n",
              "      <td>0</td>\n",
              "      <td>0</td>\n",
              "      <td>0</td>\n",
              "      <td>0</td>\n",
              "      <td>0</td>\n",
              "      <td>0</td>\n",
              "      <td>0</td>\n",
              "      <td>0</td>\n",
              "      <td>0</td>\n",
              "      <td>0</td>\n",
              "      <td>0</td>\n",
              "      <td>0</td>\n",
              "      <td>0</td>\n",
              "      <td>0</td>\n",
              "      <td>0</td>\n",
              "      <td>0</td>\n",
              "      <td>0</td>\n",
              "      <td>0</td>\n",
              "      <td>0</td>\n",
              "      <td>0</td>\n",
              "      <td>0</td>\n",
              "      <td>0</td>\n",
              "      <td>0</td>\n",
              "      <td>0</td>\n",
              "      <td>0</td>\n",
              "      <td>0</td>\n",
              "      <td>0</td>\n",
              "      <td>0</td>\n",
              "      <td>...</td>\n",
              "      <td>0</td>\n",
              "      <td>0</td>\n",
              "      <td>0</td>\n",
              "      <td>0</td>\n",
              "      <td>0</td>\n",
              "      <td>0</td>\n",
              "      <td>0</td>\n",
              "      <td>0</td>\n",
              "      <td>0</td>\n",
              "      <td>0</td>\n",
              "      <td>0</td>\n",
              "      <td>0</td>\n",
              "      <td>0</td>\n",
              "      <td>0</td>\n",
              "      <td>0</td>\n",
              "      <td>0</td>\n",
              "      <td>0</td>\n",
              "      <td>0</td>\n",
              "      <td>0</td>\n",
              "      <td>0</td>\n",
              "      <td>0</td>\n",
              "      <td>0</td>\n",
              "      <td>0</td>\n",
              "      <td>0</td>\n",
              "      <td>0</td>\n",
              "      <td>0</td>\n",
              "      <td>0</td>\n",
              "      <td>0</td>\n",
              "      <td>0</td>\n",
              "      <td>0</td>\n",
              "      <td>0</td>\n",
              "      <td>0</td>\n",
              "      <td>0</td>\n",
              "      <td>0</td>\n",
              "      <td>0</td>\n",
              "      <td>0</td>\n",
              "      <td>1</td>\n",
              "      <td>0</td>\n",
              "      <td>0</td>\n",
              "      <td>0</td>\n",
              "    </tr>\n",
              "    <tr>\n",
              "      <th>9</th>\n",
              "      <td>2.0</td>\n",
              "      <td>2.0</td>\n",
              "      <td>50.00</td>\n",
              "      <td>2</td>\n",
              "      <td>1040.0</td>\n",
              "      <td>1</td>\n",
              "      <td>0</td>\n",
              "      <td>0</td>\n",
              "      <td>0</td>\n",
              "      <td>0</td>\n",
              "      <td>0</td>\n",
              "      <td>0</td>\n",
              "      <td>0</td>\n",
              "      <td>0</td>\n",
              "      <td>0</td>\n",
              "      <td>0</td>\n",
              "      <td>0</td>\n",
              "      <td>0</td>\n",
              "      <td>0</td>\n",
              "      <td>0</td>\n",
              "      <td>0</td>\n",
              "      <td>0</td>\n",
              "      <td>0</td>\n",
              "      <td>0</td>\n",
              "      <td>0</td>\n",
              "      <td>0</td>\n",
              "      <td>0</td>\n",
              "      <td>0</td>\n",
              "      <td>0</td>\n",
              "      <td>0</td>\n",
              "      <td>0</td>\n",
              "      <td>0</td>\n",
              "      <td>0</td>\n",
              "      <td>0</td>\n",
              "      <td>0</td>\n",
              "      <td>0</td>\n",
              "      <td>0</td>\n",
              "      <td>0</td>\n",
              "      <td>0</td>\n",
              "      <td>0</td>\n",
              "      <td>...</td>\n",
              "      <td>0</td>\n",
              "      <td>0</td>\n",
              "      <td>0</td>\n",
              "      <td>0</td>\n",
              "      <td>0</td>\n",
              "      <td>0</td>\n",
              "      <td>0</td>\n",
              "      <td>0</td>\n",
              "      <td>0</td>\n",
              "      <td>0</td>\n",
              "      <td>0</td>\n",
              "      <td>0</td>\n",
              "      <td>0</td>\n",
              "      <td>0</td>\n",
              "      <td>0</td>\n",
              "      <td>0</td>\n",
              "      <td>0</td>\n",
              "      <td>0</td>\n",
              "      <td>0</td>\n",
              "      <td>0</td>\n",
              "      <td>0</td>\n",
              "      <td>0</td>\n",
              "      <td>0</td>\n",
              "      <td>0</td>\n",
              "      <td>0</td>\n",
              "      <td>0</td>\n",
              "      <td>0</td>\n",
              "      <td>0</td>\n",
              "      <td>0</td>\n",
              "      <td>0</td>\n",
              "      <td>0</td>\n",
              "      <td>0</td>\n",
              "      <td>0</td>\n",
              "      <td>0</td>\n",
              "      <td>0</td>\n",
              "      <td>0</td>\n",
              "      <td>1</td>\n",
              "      <td>1</td>\n",
              "      <td>0</td>\n",
              "      <td>0</td>\n",
              "    </tr>\n",
              "    <tr>\n",
              "      <th>10</th>\n",
              "      <td>3.0</td>\n",
              "      <td>2.0</td>\n",
              "      <td>86.06</td>\n",
              "      <td>3</td>\n",
              "      <td>1655.0</td>\n",
              "      <td>1</td>\n",
              "      <td>0</td>\n",
              "      <td>0</td>\n",
              "      <td>0</td>\n",
              "      <td>0</td>\n",
              "      <td>0</td>\n",
              "      <td>0</td>\n",
              "      <td>0</td>\n",
              "      <td>0</td>\n",
              "      <td>0</td>\n",
              "      <td>0</td>\n",
              "      <td>0</td>\n",
              "      <td>0</td>\n",
              "      <td>0</td>\n",
              "      <td>0</td>\n",
              "      <td>0</td>\n",
              "      <td>0</td>\n",
              "      <td>0</td>\n",
              "      <td>0</td>\n",
              "      <td>0</td>\n",
              "      <td>0</td>\n",
              "      <td>0</td>\n",
              "      <td>0</td>\n",
              "      <td>0</td>\n",
              "      <td>0</td>\n",
              "      <td>0</td>\n",
              "      <td>0</td>\n",
              "      <td>0</td>\n",
              "      <td>0</td>\n",
              "      <td>0</td>\n",
              "      <td>0</td>\n",
              "      <td>0</td>\n",
              "      <td>0</td>\n",
              "      <td>0</td>\n",
              "      <td>0</td>\n",
              "      <td>...</td>\n",
              "      <td>0</td>\n",
              "      <td>0</td>\n",
              "      <td>0</td>\n",
              "      <td>0</td>\n",
              "      <td>0</td>\n",
              "      <td>0</td>\n",
              "      <td>0</td>\n",
              "      <td>0</td>\n",
              "      <td>0</td>\n",
              "      <td>0</td>\n",
              "      <td>0</td>\n",
              "      <td>0</td>\n",
              "      <td>0</td>\n",
              "      <td>0</td>\n",
              "      <td>0</td>\n",
              "      <td>0</td>\n",
              "      <td>0</td>\n",
              "      <td>0</td>\n",
              "      <td>0</td>\n",
              "      <td>0</td>\n",
              "      <td>0</td>\n",
              "      <td>0</td>\n",
              "      <td>0</td>\n",
              "      <td>0</td>\n",
              "      <td>0</td>\n",
              "      <td>0</td>\n",
              "      <td>0</td>\n",
              "      <td>0</td>\n",
              "      <td>0</td>\n",
              "      <td>0</td>\n",
              "      <td>0</td>\n",
              "      <td>0</td>\n",
              "      <td>0</td>\n",
              "      <td>0</td>\n",
              "      <td>0</td>\n",
              "      <td>0</td>\n",
              "      <td>1</td>\n",
              "      <td>0</td>\n",
              "      <td>0</td>\n",
              "      <td>0</td>\n",
              "    </tr>\n",
              "    <tr>\n",
              "      <th>12</th>\n",
              "      <td>5.0</td>\n",
              "      <td>3.0</td>\n",
              "      <td>198.00</td>\n",
              "      <td>4</td>\n",
              "      <td>2790.0</td>\n",
              "      <td>1</td>\n",
              "      <td>0</td>\n",
              "      <td>0</td>\n",
              "      <td>0</td>\n",
              "      <td>0</td>\n",
              "      <td>0</td>\n",
              "      <td>0</td>\n",
              "      <td>0</td>\n",
              "      <td>0</td>\n",
              "      <td>0</td>\n",
              "      <td>0</td>\n",
              "      <td>0</td>\n",
              "      <td>0</td>\n",
              "      <td>0</td>\n",
              "      <td>0</td>\n",
              "      <td>0</td>\n",
              "      <td>0</td>\n",
              "      <td>0</td>\n",
              "      <td>0</td>\n",
              "      <td>0</td>\n",
              "      <td>0</td>\n",
              "      <td>0</td>\n",
              "      <td>0</td>\n",
              "      <td>0</td>\n",
              "      <td>0</td>\n",
              "      <td>0</td>\n",
              "      <td>0</td>\n",
              "      <td>0</td>\n",
              "      <td>0</td>\n",
              "      <td>0</td>\n",
              "      <td>0</td>\n",
              "      <td>0</td>\n",
              "      <td>0</td>\n",
              "      <td>0</td>\n",
              "      <td>0</td>\n",
              "      <td>...</td>\n",
              "      <td>0</td>\n",
              "      <td>0</td>\n",
              "      <td>0</td>\n",
              "      <td>0</td>\n",
              "      <td>0</td>\n",
              "      <td>0</td>\n",
              "      <td>0</td>\n",
              "      <td>0</td>\n",
              "      <td>0</td>\n",
              "      <td>0</td>\n",
              "      <td>0</td>\n",
              "      <td>0</td>\n",
              "      <td>0</td>\n",
              "      <td>0</td>\n",
              "      <td>0</td>\n",
              "      <td>0</td>\n",
              "      <td>0</td>\n",
              "      <td>0</td>\n",
              "      <td>0</td>\n",
              "      <td>0</td>\n",
              "      <td>0</td>\n",
              "      <td>0</td>\n",
              "      <td>0</td>\n",
              "      <td>0</td>\n",
              "      <td>0</td>\n",
              "      <td>0</td>\n",
              "      <td>0</td>\n",
              "      <td>0</td>\n",
              "      <td>0</td>\n",
              "      <td>0</td>\n",
              "      <td>0</td>\n",
              "      <td>0</td>\n",
              "      <td>0</td>\n",
              "      <td>0</td>\n",
              "      <td>0</td>\n",
              "      <td>0</td>\n",
              "      <td>0</td>\n",
              "      <td>0</td>\n",
              "      <td>0</td>\n",
              "      <td>0</td>\n",
              "    </tr>\n",
              "  </tbody>\n",
              "</table>\n",
              "<p>10 rows × 105 columns</p>\n",
              "</div>"
            ],
            "text/plain": [
              "    bath  balcony   price  ...  Built-up  Area  Carpet  Area  Plot  Area\n",
              "0    2.0      1.0   39.07  ...               0             0           0\n",
              "1    4.0      1.0  245.00  ...               0             0           1\n",
              "2    2.0      2.0   50.00  ...               0             0           0\n",
              "3    2.0      2.0   80.00  ...               0             0           0\n",
              "4    3.0      2.0  130.00  ...               0             0           0\n",
              "5    2.0      1.0   41.00  ...               1             0           0\n",
              "8    2.0      1.0   95.00  ...               0             0           0\n",
              "9    2.0      2.0   50.00  ...               1             0           0\n",
              "10   3.0      2.0   86.06  ...               0             0           0\n",
              "12   5.0      3.0  198.00  ...               0             0           0\n",
              "\n",
              "[10 rows x 105 columns]"
            ]
          },
          "metadata": {
            "tags": []
          },
          "execution_count": 73
        }
      ]
    },
    {
      "cell_type": "code",
      "metadata": {
        "id": "50tYg_AloAZH",
        "colab_type": "code",
        "colab": {
          "base_uri": "https://localhost:8080/",
          "height": 34
        },
        "outputId": "ed090674-d160-487c-b4be-7cbfda4b0a0f"
      },
      "source": [
        "# Size of the dataset\n",
        "df6.shape"
      ],
      "execution_count": 74,
      "outputs": [
        {
          "output_type": "execute_result",
          "data": {
            "text/plain": [
              "(7395, 105)"
            ]
          },
          "metadata": {
            "tags": []
          },
          "execution_count": 74
        }
      ]
    },
    {
      "cell_type": "code",
      "metadata": {
        "id": "cKaVECXioJbY",
        "colab_type": "code",
        "colab": {}
      },
      "source": [
        "# Splitting the dataset into features and label\n",
        "X = df6.drop('price', axis='columns')\n",
        "y = df6['price']"
      ],
      "execution_count": 75,
      "outputs": []
    },
    {
      "cell_type": "markdown",
      "metadata": {
        "id": "1Pjf8VRuooN1",
        "colab_type": "text"
      },
      "source": [
        "### *Linear Regression Algorithm*"
      ]
    },
    {
      "cell_type": "code",
      "metadata": {
        "id": "tGLCJ2iAo2wL",
        "colab_type": "code",
        "colab": {}
      },
      "source": [
        "# Splitting the dataset into train and test set\n",
        "from sklearn.model_selection import train_test_split\n",
        "X_train, X_test, y_train, y_test = train_test_split(X, y, test_size=0.20, random_state=20)"
      ],
      "execution_count": 76,
      "outputs": []
    },
    {
      "cell_type": "code",
      "metadata": {
        "id": "mRO6eknHo9Fg",
        "colab_type": "code",
        "colab": {
          "base_uri": "https://localhost:8080/",
          "height": 34
        },
        "outputId": "e1c8b52b-68c8-4f4b-a400-fa8a789cc396"
      },
      "source": [
        "# Creating Linear Regression Model\n",
        "from sklearn.linear_model import LinearRegression\n",
        "model = LinearRegression(normalize=True)\n",
        "model.fit(X_train, y_train)"
      ],
      "execution_count": 77,
      "outputs": [
        {
          "output_type": "execute_result",
          "data": {
            "text/plain": [
              "LinearRegression(copy_X=True, fit_intercept=True, n_jobs=None, normalize=True)"
            ]
          },
          "metadata": {
            "tags": []
          },
          "execution_count": 77
        }
      ]
    },
    {
      "cell_type": "code",
      "metadata": {
        "id": "YqAk8SC0pBxU",
        "colab_type": "code",
        "colab": {}
      },
      "source": [
        "model.score(X_test, y_test)"
      ],
      "execution_count": null,
      "outputs": []
    },
    {
      "cell_type": "code",
      "metadata": {
        "id": "GuJ37z5zpfbk",
        "colab_type": "code",
        "colab": {}
      },
      "source": [
        "# Creating a fuction to predict values\n",
        "def prediction(location, bhk, bath, balcony, sqft, area_type, availability):\n",
        "    \n",
        "    loc_index, area_index, avail_index = -1,-1,-1\n",
        "        \n",
        "    if location!='other':\n",
        "        loc_index = int(np.where(X.columns==location)[0][0])\n",
        "    \n",
        "    if area_type!='Super built-up  Area':\n",
        "        area_index = np.where(X.columns==area_type)[0][0]\n",
        "        \n",
        "    if availability!='Not Ready':        \n",
        "        avail_index = np.where(X.columns==availability)[0][0]\n",
        "            \n",
        "    x = np.zeros(len(X.columns))\n",
        "    x[0] = bath\n",
        "    x[1] = balcony\n",
        "    x[2] = bhk\n",
        "    x[3] = sqft\n",
        "    \n",
        "    if loc_index >= 0:\n",
        "        x[loc_index] = 1\n",
        "    if area_index >= 0:\n",
        "        x[area_index] = 1\n",
        "    if avail_index >= 0:\n",
        "        x[avail_index] = 1\n",
        "        \n",
        "    return model.predict([x])[0]"
      ],
      "execution_count": 78,
      "outputs": []
    },
    {
      "cell_type": "code",
      "metadata": {
        "id": "JZiHAri4_PbO",
        "colab_type": "code",
        "colab": {
          "base_uri": "https://localhost:8080/",
          "height": 34
        },
        "outputId": "6c5a9880-471d-4e6c-baac-13b067d694ec"
      },
      "source": [
        "# Prediction 1\n",
        "# Input in the form : Location, BHK, Bath, Balcony, Sqft, area_type, availability.\n",
        "prediction('Camp', 2, 2, 2, 1000, 'Built-up  Area', 'Ready To Move')"
      ],
      "execution_count": 85,
      "outputs": [
        {
          "output_type": "execute_result",
          "data": {
            "text/plain": [
              "51.09375"
            ]
          },
          "metadata": {
            "tags": []
          },
          "execution_count": 85
        }
      ]
    },
    {
      "cell_type": "code",
      "metadata": {
        "id": "Zm0whei2_Ulb",
        "colab_type": "code",
        "colab": {
          "base_uri": "https://localhost:8080/",
          "height": 34
        },
        "outputId": "a59c6b18-fe81-4b8a-e33e-b93d4150276a"
      },
      "source": [
        "# Prediction 2\n",
        "# Input in the form : Location, BHK, Bath, Balcony, Sqft, area_type, availability.\n",
        "prediction('Hadapsar', 2, 2, 2, 1000, 'Super built-up  Area', 'Ready To Move')"
      ],
      "execution_count": 80,
      "outputs": [
        {
          "output_type": "execute_result",
          "data": {
            "text/plain": [
              "52.03125"
            ]
          },
          "metadata": {
            "tags": []
          },
          "execution_count": 80
        }
      ]
    },
    {
      "cell_type": "code",
      "metadata": {
        "id": "IrzgO66U_cgx",
        "colab_type": "code",
        "colab": {
          "base_uri": "https://localhost:8080/",
          "height": 34
        },
        "outputId": "3b6c7f34-5891-4708-dc8b-01e3a5eea0a5"
      },
      "source": [
        "# Prediction 3\n",
        "# Input in the form : Location, BHK, Bath, Balcony, Sqft, area_type, availability.\n",
        "prediction('Balaji Nagar', 2, 3, 2, 2000, 'Plot  Area', 'Not Ready')"
      ],
      "execution_count": 84,
      "outputs": [
        {
          "output_type": "execute_result",
          "data": {
            "text/plain": [
              "141.625"
            ]
          },
          "metadata": {
            "tags": []
          },
          "execution_count": 84
        }
      ]
    },
    {
      "cell_type": "code",
      "metadata": {
        "id": "rxnnFaIK_oa6",
        "colab_type": "code",
        "colab": {
          "base_uri": "https://localhost:8080/",
          "height": 34
        },
        "outputId": "d1794419-499b-4945-e65b-c7714fe64d4f"
      },
      "source": [
        "# Prediction 4\n",
        "# Input in the form : Location, BHK, Bath, Balcony, Sqft, area_type, availability.\n",
        "prediction('Hadapsar', 2, 3, 2, 2000, 'Plot  Area', 'Not Ready')"
      ],
      "execution_count": 83,
      "outputs": [
        {
          "output_type": "execute_result",
          "data": {
            "text/plain": [
              "140.28125"
            ]
          },
          "metadata": {
            "tags": []
          },
          "execution_count": 83
        }
      ]
    }
  ]
}